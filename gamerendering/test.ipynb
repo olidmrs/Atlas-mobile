{
 "cells": [
  {
   "cell_type": "code",
   "execution_count": 6,
   "metadata": {},
   "outputs": [
    {
     "name": "stdout",
     "output_type": "stream",
     "text": [
      "Connected to Arduino!\n",
      "Sent: 0\n",
      "Sent: 0\n",
      "Exiting...\n"
     ]
    }
   ],
   "source": [
    "import serial\n",
    "import time\n",
    "\n",
    "# Replace 'COMX' with the correct port (e.g., COM3 on Windows, /dev/ttyUSB0 on Linux/Mac)\n",
    "arduino_port = '/dev/tty.ATLAS'\n",
    "baud_rate = 38400  # Match the Arduino baud rate\n",
    "\n",
    "# Open the serial connection\n",
    "with serial.Serial(arduino_port, baud_rate, timeout=1) as ser:\n",
    "    print(\"Connected to Arduino!\")\n",
    "    \n",
    "    while True:\n",
    "        # Get user input\n",
    "        user_input = input(\"Enter 0 or 1 (or 'exit' to quit): \")\n",
    "\n",
    "        if user_input.lower() == 'exit':\n",
    "            print(\"Exiting...\")\n",
    "            break\n",
    "\n",
    "        if user_input in ['0', '1']:  # Only send valid inputs\n",
    "            ser.write(user_input.encode())  # Send the input\n",
    "            print(f\"Sent: {user_input}\")\n",
    "            time.sleep(0.1)  # Allow Arduino some time to process\n",
    "        else:\n",
    "            print(\"Invalid input. Please enter 0 or 1.\")\n"
   ]
  },
  {
   "cell_type": "code",
   "execution_count": null,
   "metadata": {},
   "outputs": [],
   "source": []
  },
  {
   "cell_type": "code",
   "execution_count": null,
   "metadata": {},
   "outputs": [],
   "source": []
  },
  {
   "cell_type": "code",
   "execution_count": null,
   "metadata": {},
   "outputs": [],
   "source": []
  },
  {
   "cell_type": "code",
   "execution_count": null,
   "metadata": {},
   "outputs": [],
   "source": []
  }
 ],
 "metadata": {
  "kernelspec": {
   "display_name": "Python 3",
   "language": "python",
   "name": "python3"
  },
  "language_info": {
   "codemirror_mode": {
    "name": "ipython",
    "version": 3
   },
   "file_extension": ".py",
   "mimetype": "text/x-python",
   "name": "python",
   "nbconvert_exporter": "python",
   "pygments_lexer": "ipython3",
   "version": "3.11.9"
  }
 },
 "nbformat": 4,
 "nbformat_minor": 2
}
