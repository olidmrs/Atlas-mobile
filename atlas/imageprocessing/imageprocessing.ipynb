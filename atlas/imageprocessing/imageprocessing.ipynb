{
 "cells": [
  {
   "cell_type": "code",
   "execution_count": 1,
   "metadata": {},
   "outputs": [],
   "source": [
    "import numpy as np\n",
    "import cv2\n",
    "from PIL import Image\n",
    "import os\n",
    "import matplotlib.pyplot as plt"
   ]
  },
  {
   "cell_type": "code",
   "execution_count": null,
   "metadata": {},
   "outputs": [
    {
     "name": "stdout",
     "output_type": "stream",
     "text": [
      "(4032, 3024, 3)\n"
     ]
    },
    {
     "data": {
      "image/png": "[encoded data removed]",
      "text/plain": [
       "<Figure size 640x480 with 1 Axes>"
      ]
     },
     "metadata": {},
     "output_type": "display_data"
    },
    {
     "name": "stdout",
     "output_type": "stream",
     "text": [
      "[[[0 0 0]\n",
      "  [0 0 0]\n",
      "  [0 0 0]\n",
      "  ...\n",
      "  [0 0 0]\n",
      "  [0 0 0]\n",
      "  [0 0 0]]\n",
      "\n",
      " [[0 0 0]\n",
      "  [0 0 0]\n",
      "  [0 0 0]\n",
      "  ...\n",
      "  [0 0 0]\n",
      "  [0 0 0]\n",
      "  [0 0 0]]\n",
      "\n",
      " [[0 0 0]\n",
      "  [0 0 0]\n",
      "  [0 0 0]\n",
      "  ...\n",
      "  [0 0 0]\n",
      "  [0 0 0]\n",
      "  [0 0 0]]\n",
      "\n",
      " ...\n",
      "\n",
      " [[0 0 0]\n",
      "  [0 0 0]\n",
      "  [0 0 0]\n",
      "  ...\n",
      "  [0 0 0]\n",
      "  [0 0 0]\n",
      "  [0 0 0]]\n",
      "\n",
      " [[0 0 0]\n",
      "  [0 0 0]\n",
      "  [0 0 0]\n",
      "  ...\n",
      "  [0 0 0]\n",
      "  [0 0 0]\n",
      "  [0 0 0]]\n",
      "\n",
      " [[0 0 0]\n",
      "  [0 0 0]\n",
      "  [0 0 0]\n",
      "  ...\n",
      "  [0 0 0]\n",
      "  [0 0 0]\n",
      "  [0 0 0]]]\n"
     ]
    }
   ],
   "source": [
    "im = Image.open('image_test/real_test.jpg')\n",
    "arr = np.array(im)\n",
    "\n",
    "image = np.zeros((arr.shape))\n",
    "if arr.shape[-1] != 3:\n",
    "    arr = arr[:, :, :3]\n",
    "print(arr.shape)\n",
    "\n",
    "def transform_image(image : np.ndarray) -> np.ndarray:\n",
    "    blue_lower = np.array([0, 0, 50])\n",
    "    blue_upper = np.array([100, 100, 255])\n",
    "    red_lower = np.array([80, 0, 0])\n",
    "    red_upper = np.array([255, 100, 100])\n",
    "    green_lower = np.array([0, 50, 0])\n",
    "    green_upper = np.array([80, 255, 80])\n",
    "    road_mask = np.all((image >= blue_lower) & (image <= blue_upper), axis=-1).astype(np.uint8)\n",
    "    red_mask = np.all((image >= red_lower) & (image <= red_upper), axis=-1).astype(np.uint8)\n",
    "    green_mask = np.all((image >= green_lower) & (image <= green_upper), axis=-1).astype(np.uint8)\n",
    "\n",
    "    flood_filled = road_mask.copy()\n",
    "\n",
    "    h, w = flood_filled.shape\n",
    "    exterior_point = (0, 0)\n",
    "\n",
    "    exterior_mask = cv2.floodFill(flood_filled, None, exterior_point, 1)[1]\n",
    "    \n",
    "    interior_mask = 1 - exterior_mask\n",
    "\n",
    "    final_mask = (interior_mask == 1).astype(np.uint8)\n",
    "\n",
    "    rgb_matrix = np.zeros((*final_mask.shape, 3), dtype = np.uint8)\n",
    "\n",
    "    rgb_matrix[final_mask == 1] = [255,255,255]\n",
    "    \n",
    "    rgb_matrix[green_mask == 1] = [0, 255, 0]\n",
    "    rgb_matrix[red_mask == 1] = [255, 0, 0]\n",
    "    return rgb_matrix\n",
    "\n",
    "binary_matrix = transform_image(arr)\n",
    "\n",
    "plt.imshow(binary_matrix, cmap='gray') \n",
    "plt.title('Binary Road Mask')\n",
    "plt.axis('off')  \n",
    "plt.show()\n",
    "\n",
    "print(binary_matrix)"
   ]
  },
  {
   "cell_type": "code",
   "execution_count": null,
   "metadata": {},
   "outputs": [],
   "source": []
  }
 ],
 "metadata": {
  "kernelspec": {
   "display_name": "Python 3",
   "language": "python",
   "name": "python3"
  },
  "language_info": {
   "codemirror_mode": {
    "name": "ipython",
    "version": 3
   },
   "file_extension": ".py",
   "mimetype": "text/x-python",
   "name": "python",
   "nbconvert_exporter": "python",
   "pygments_lexer": "ipython3",
   "version": "3.11.9"
  }
 },
 "nbformat": 4,
 "nbformat_minor": 2
}
