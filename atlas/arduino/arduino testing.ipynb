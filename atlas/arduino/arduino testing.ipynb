{
 "cells": [
  {
   "cell_type": "code",
   "execution_count": 6,
   "metadata": {},
   "outputs": [
    {
     "name": "stdout",
     "output_type": "stream",
     "text": [
      "Connected to Arduino!\n",
      "Sent: 0\n",
      "Sent: 0\n",
      "Exiting...\n"
     ]
    }
   ],
   "source": [
    "import serial\n",
    "import time\n",
    "\n",
    "# Replace 'COMX' with the correct port (e.g., COM3 on Windows, /dev/ttyUSB0 on Linux/Mac)\n",
    "arduino_port = '/dev/tty.ATLAS'\n",
    "baud_rate = 38400  # Match the Arduino baud rate\n",
    "\n",
    "# Open the serial connection\n",
    "with serial.Serial(arduino_port, baud_rate, timeout=1) as ser:\n",
    "    print(\"Connected to Arduino!\")\n",
    "    \n",
    "    while True:\n",
    "        # Get user input\n",
    "        user_input = input(\"Enter 0 or 1 (or 'exit' to quit): \")\n",
    "\n",
    "        if user_input.lower() == 'exit':\n",
    "            print(\"Exiting...\")\n",
    "            break\n",
    "\n",
    "        if user_input in ['0', '1']:  # Only send valid inputs\n",
    "            ser.write(user_input.encode())  # Send the input\n",
    "            print(f\"Sent: {user_input}\")\n",
    "            time.sleep(0.1)  # Allow Arduino some time to process\n",
    "        else:\n",
    "            print(\"Invalid input. Please enter 0 or 1.\")\n"
   ]
  },
  {
   "cell_type": "code",
   "execution_count": null,
   "metadata": {},
   "outputs": [
    {
     "name": "stdout",
     "output_type": "stream",
     "text": [
      "Connected to Arduino!\n",
      "Sent: 0 180\n",
      "Sent: 0 90\n",
      "Sent: 255 0\n",
      "Sent: 0 50\n",
      "Sent: 0 30\n",
      "Sent: 0 10\n",
      "Sent: 0 100\n",
      "Invalid input! Please enter valid numbers.\n",
      "Invalid input! Please enter valid numbers.\n",
      "Invalid input! Please enter valid numbers.\n",
      "Invalid input! Please enter valid numbers.\n",
      "Invalid input! Please enter valid numbers.\n",
      "Invalid input! Please enter valid numbers.\n",
      "Invalid input! Please enter valid numbers.\n"
     ]
    }
   ],
   "source": [
    "import serial\n",
    "import time\n",
    "\n",
    "# Replace 'COMX' with the correct port (e.g., COM3 on Windows, /dev/ttyUSB0 on Linux/Mac)\n",
    "arduino_port = '/dev/tty.ATLAS'\n",
    "baud_rate = 38400  # Match the Arduino baud rate\n",
    "\n",
    "# Open the serial connection\n",
    "with serial.Serial(arduino_port, baud_rate, timeout=1) as ser:\n",
    "    print(\"Connected to Arduino!\")\n",
    "\n",
    "    while True:\n",
    "        # Get user input\n",
    "        motor_speed = input(\"Enter motor speed (0-255): \")\n",
    "        servo_position = input(\"Enter servo position (0-180): \")\n",
    "\n",
    "        if motor_speed.isdigit() and servo_position.isdigit():\n",
    "            # Combine the two values into a single string separated by a space\n",
    "            message = f\"{motor_speed} {servo_position}\\n\"\n",
    "            ser.write(message.encode())  # Send the data\n",
    "            print(f\"Sent: {message.strip()}\")\n",
    "            time.sleep(0.1)  # Allow Arduino time to process\n",
    "        else:\n",
    "            print(\"Invalid input! Please enter valid numbers.\")"
   ]
  },
  {
   "cell_type": "code",
   "execution_count": 3,
   "metadata": {},
   "outputs": [
    {
     "ename": "NameError",
     "evalue": "name '_name_' is not defined",
     "output_type": "error",
     "traceback": [
      "\u001b[0;31m---------------------------------------------------------------------------\u001b[0m",
      "\u001b[0;31mNameError\u001b[0m                                 Traceback (most recent call last)",
      "Cell \u001b[0;32mIn[3], line 51\u001b[0m\n\u001b[1;32m     48\u001b[0m             \u001b[38;5;28mprint\u001b[39m(\u001b[38;5;124m\"\u001b[39m\u001b[38;5;130;01m\\n\u001b[39;00m\u001b[38;5;124mExiting...\u001b[39m\u001b[38;5;124m\"\u001b[39m)\n\u001b[1;32m     49\u001b[0m             \u001b[38;5;28;01mbreak\u001b[39;00m\n\u001b[0;32m---> 51\u001b[0m \u001b[38;5;28;01mif\u001b[39;00m \u001b[43m_name_\u001b[49m \u001b[38;5;241m==\u001b[39m \u001b[38;5;124m\"\u001b[39m\u001b[38;5;124m_main_\u001b[39m\u001b[38;5;124m\"\u001b[39m:\n\u001b[1;32m     52\u001b[0m     main()\n",
      "\u001b[0;31mNameError\u001b[0m: name '_name_' is not defined"
     ]
    }
   ],
   "source": [
    "import serial\n",
    "import time\n",
    "\n",
    "# Replace 'COMX' with the correct port (e.g., COM3 on Windows, /dev/ttyUSB0 on Linux/Mac)\n",
    "arduino_port = '/dev/tty.ATLAS'\n",
    "baud_rate = 38400  # Match the Arduino baud rate\n",
    "\n",
    "def send_to_arduino(value):\n",
    "    \"\"\"Send a single value to the Arduino.\"\"\"\n",
    "    with serial.Serial(arduino_port, baud_rate, timeout=1) as ser:\n",
    "        ser.write(f\"{value}\\n\".encode())  # Send the value as a string with newline\n",
    "        print(f\"Sent: {value}\")\n",
    "        time.sleep(0.1)  # Allow Arduino time to process the data\n",
    "\n",
    "def main():\n",
    "    print(\"Connected to Arduino!\")\n",
    "    print(\"Enter motor speed (0-255) and servo position (0-180). Type 'exit' to quit.\")\n",
    "    \n",
    "    while True:\n",
    "        try:\n",
    "            # Get motor speed\n",
    "            motor_speed = input(\"Enter motor speed (0-255): \")\n",
    "            if motor_speed.lower() == 'exit':\n",
    "                print(\"Exiting...\")\n",
    "                break\n",
    "            \n",
    "            # Validate motor speed input\n",
    "            if not motor_speed.isdigit() or not (0 <= int(motor_speed) <= 255):\n",
    "                print(\"Invalid motor speed! Please enter a number between 0 and 255.\")\n",
    "                continue\n",
    "            \n",
    "            # Get servo position\n",
    "            servo_position = input(\"Enter servo position (0-180): \")\n",
    "            if servo_position.lower() == 'exit':\n",
    "                print(\"Exiting...\")\n",
    "                break\n",
    "            \n",
    "            # Validate servo position input\n",
    "            if not servo_position.isdigit() or not (0 <= int(servo_position) <= 180):\n",
    "                print(\"Invalid servo position! Please enter a number between 0 and 180.\")\n",
    "                continue\n",
    "            \n",
    "            # Send motor speed and servo position alternately\n",
    "            send_to_arduino(int(motor_speed))\n",
    "            send_to_arduino(int(servo_position))\n",
    "        \n",
    "        except KeyboardInterrupt:\n",
    "            print(\"\\nExiting...\")\n",
    "            break\n",
    "\n",
    "if _name_ == \"_main_\":\n",
    "    main()"
   ]
  },
  {
   "cell_type": "code",
   "execution_count": null,
   "metadata": {},
   "outputs": [],
   "source": []
  }
 ],
 "metadata": {
  "kernelspec": {
   "display_name": "Python 3",
   "language": "python",
   "name": "python3"
  },
  "language_info": {
   "codemirror_mode": {
    "name": "ipython",
    "version": 3
   },
   "file_extension": ".py",
   "mimetype": "text/x-python",
   "name": "python",
   "nbconvert_exporter": "python",
   "pygments_lexer": "ipython3",
   "version": "3.11.9"
  }
 },
 "nbformat": 4,
 "nbformat_minor": 2
}
