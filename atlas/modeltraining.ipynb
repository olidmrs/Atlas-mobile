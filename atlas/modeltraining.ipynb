{
 "cells": [
  {
   "cell_type": "markdown",
   "metadata": {},
   "source": [
    "## Librairies"
   ]
  },
  {
   "cell_type": "code",
   "execution_count": 24,
   "metadata": {},
   "outputs": [
    {
     "ename": "ImportError",
     "evalue": "cannot import name 'Vector' from 'cargame' (/Users/oli.dmrs/Documents/Personal Projects/Atlas-mobile/Atlas-mobile/atlas/cargame/__init__.py)",
     "output_type": "error",
     "traceback": [
      "\u001b[0;31m---------------------------------------------------------------------------\u001b[0m",
      "\u001b[0;31mImportError\u001b[0m                               Traceback (most recent call last)",
      "Cell \u001b[0;32mIn[24], line 9\u001b[0m\n\u001b[1;32m      7\u001b[0m \u001b[38;5;28;01mfrom\u001b[39;00m\u001b[38;5;250m \u001b[39m\u001b[38;5;21;01mstable_baselines3\u001b[39;00m\u001b[38;5;21;01m.\u001b[39;00m\u001b[38;5;21;01mcommon\u001b[39;00m\u001b[38;5;21;01m.\u001b[39;00m\u001b[38;5;21;01mevaluation\u001b[39;00m\u001b[38;5;250m \u001b[39m\u001b[38;5;28;01mimport\u001b[39;00m evaluate_policy\n\u001b[1;32m      8\u001b[0m \u001b[38;5;28;01mfrom\u001b[39;00m\u001b[38;5;250m \u001b[39m\u001b[38;5;21;01mgym\u001b[39;00m\u001b[38;5;21;01m.\u001b[39;00m\u001b[38;5;21;01mspaces\u001b[39;00m\u001b[38;5;250m \u001b[39m\u001b[38;5;28;01mimport\u001b[39;00m Discrete, Box, Dict, Tuple, MultiBinary, MultiDiscrete\n\u001b[0;32m----> 9\u001b[0m \u001b[38;5;28;01mfrom\u001b[39;00m\u001b[38;5;250m \u001b[39m\u001b[38;5;21;01mcargame\u001b[39;00m\u001b[38;5;250m \u001b[39m\u001b[38;5;28;01mimport\u001b[39;00m Car, Track, Vector\n\u001b[1;32m     10\u001b[0m \u001b[38;5;28;01mimport\u001b[39;00m\u001b[38;5;250m \u001b[39m\u001b[38;5;21;01mpygame\u001b[39;00m\u001b[38;5;241m,\u001b[39m\u001b[38;5;250m \u001b[39m\u001b[38;5;21;01msys\u001b[39;00m\n",
      "\u001b[0;31mImportError\u001b[0m: cannot import name 'Vector' from 'cargame' (/Users/oli.dmrs/Documents/Personal Projects/Atlas-mobile/Atlas-mobile/atlas/cargame/__init__.py)"
     ]
    }
   ],
   "source": [
    "from gym import Env\n",
    "import gym\n",
    "import numpy as np\n",
    "import os\n",
    "from stable_baselines3 import PPO\n",
    "from stable_baselines3.common.vec_env import DummyVecEnv\n",
    "from stable_baselines3.common.evaluation import evaluate_policy\n",
    "from gym.spaces import Discrete, Box, Dict, Tuple, MultiBinary, MultiDiscrete\n",
    "from cargame import Car, Track, Vector\n",
    "import pygame, sys\n"
   ]
  },
  {
   "cell_type": "markdown",
   "metadata": {},
   "source": [
    "## Load Environment"
   ]
  },
  {
   "cell_type": "code",
   "execution_count": 59,
   "metadata": {},
   "outputs": [
    {
     "name": "stdout",
     "output_type": "stream",
     "text": [
      "[2.2773973e+02 2.2283751e+02 2.3580814e+02 ... 7.3112976e+01 1.8350497e+02\n",
      " 5.2181561e-02]\n"
     ]
    }
   ],
   "source": [
    "tt = Dict({\n",
    "            'Grid' : Box(low = 0, high = 255, shape = (96, 96)),\n",
    "            'CarAngle' : Box(low = 0, high = 1, shape = (1,1)),\n",
    "            'TireAngle' : Box(low = -1, high = 1, shape = (1,1))\n",
    "        })\n",
    "\n",
    "speed_size = 1\n",
    "angle = 1\n",
    "\n",
    "# ttttt = np.concatenate([i.low.flatten() for i in tt.values()])\n",
    "# print(ttttt.sample)\n",
    "te = Box(\n",
    "    low = np.concatenate([\n",
    "        tt['Grid'].low.flatten(),\n",
    "        tt['CarAngle'].low.flatten()\n",
    "    ]),\n",
    "    high = np.concatenate([\n",
    "        tt['Grid'].high.flatten(),\n",
    "        tt['CarAngle'].high.flatten()\n",
    "    ]),\n",
    "    shape = (speed_size + angle + 96*96 -1,)\n",
    ")\n",
    "\n",
    "print(te.sample())"
   ]
  },
  {
   "cell_type": "code",
   "execution_count": 25,
   "metadata": {},
   "outputs": [],
   "source": [
    "from time import time\n",
    "\n",
    "class CarEnvironment(Env):\n",
    "    X_pixels = 96\n",
    "    Y_pixels = 96\n",
    "    MAX_EPOCH_TIME = 3 * 60\n",
    "\n",
    "    def __init__(self,\n",
    "                #  track\n",
    "                 ):\n",
    "        self.action_space = Box(-1.0, 1.0, shape = (1,2), dtype = np.float32)\n",
    "\n",
    "        self.observation_space = Dict({\n",
    "            'GridR' : Box(low = 0, high = 255, shape = (CarEnvironment.X_pixels, CarEnvironment.Y_pixels)),\n",
    "            'GridG' : Box(low = 0, high = 255, shape = (CarEnvironment.X_pixels, CarEnvironment.Y_pixels)),\n",
    "            'GridB' : Box(low = 0, high = 255, shape = (CarEnvironment.X_pixels, CarEnvironment.Y_pixels)),\n",
    "            'CarPositionX' : Box(low = 0, high = CarEnvironment.X_pixels, shape=(1,1)),\n",
    "            'CarPositionY' : Box(low = 0, high = CarEnvironment.Y_pixels, shape=(1,1)),\n",
    "            'CarSpeed' : Box(low = 0, high = 1, shape = (1,1)),\n",
    "            'CarAngle' : Box(low = 0, high = 1, shape = (1,1)),\n",
    "            'TireAngle' : Box(low = -1, high = 1, shape = (1,1))\n",
    "        })\n",
    "\n",
    "        grid_size = self.observation_space['Grid'].shape[0] * self.observation_space['Grid'].shape[1] \n",
    "        one_dimension_size = 5\n",
    "        \n",
    "        \n",
    "        self.observation_space = Box(\n",
    "            low = np.concatenate([\n",
    "                self.observation_space['Grid'].low.flatten(),\n",
    "                self.observation_space['CarPositionX'].low.flatten(), \n",
    "                self.observation_space['CarPositionY'].low.flatten(),\n",
    "                self.observation_space['CarSpeed'].low.flatten(),\n",
    "                self.observation_space['CarAngle'].low.flatten(), \n",
    "                self.observation_space['TireAngle'].low.flatten() \n",
    "            ]),\n",
    "                \n",
    "            high = np.concatenate([\n",
    "                self.observation_space['Grid'].high.flatten(), \n",
    "                self.observation_space['CarPositionX'].low.flatten(),\n",
    "                self.observation_space['CarPositionY'].low.flatten(),\n",
    "                self.observation_space['CarSpeed'].high.flatten(), \n",
    "                self.observation_space['CarAngle'].high.flatten(), \n",
    "                self.observation_space['TireAngle'].high.flatten()                            \n",
    "            ]),\n",
    "            shape = (grid_size + one_dimension_size,)\n",
    "        )\n",
    "        pixels = np.array()\n",
    "        track = Track(pixels)\n",
    "        self.timestep = 0.1\n",
    "        self.car = Car(10, 10, 10, 30, track, 0.1, Vector(0, 5), Vector(0, -5))\n",
    "        self.start_time = time()\n",
    "    \n",
    "    def step(self, action):\n",
    "        # Apply Action \n",
    "        angle = action[0]\n",
    "        speed = action[1]\n",
    "\n",
    "        # Action\n",
    "        self.car.set_front_tire_angle(angle)\n",
    "        self.car.set_speed(speed)\n",
    "        self.car.update()\n",
    "        \n",
    "        # Terminated\n",
    "        truncated = (time() - self.start_time) > CarEnvironment.MAX_EPOCH_TIME\n",
    "        return self.car.get_state(), self.car.reward, self.car.check_if_done(), self.car.check_if_terminated(), truncated\n",
    "    \n",
    "    def reset(self):\n",
    "        self.car.reset()\n",
    "        self.start_time = time()\n",
    "\n",
    "        return self.car\n",
    "    \n",
    "    def render(self):\n",
    "        screen = pygame.display.set_mode((4000,3000))\n",
    "    \n",
    "        while True:\n",
    "            for event in pygame.event.get():\n",
    "                if event.type == pygame.QUIT:\n",
    "                    pygame.quit()\n",
    "                    sys.exit()"
   ]
  },
  {
   "cell_type": "code",
   "execution_count": 26,
   "metadata": {},
   "outputs": [
    {
     "ename": "KeyError",
     "evalue": "'Grid'",
     "output_type": "error",
     "traceback": [
      "\u001b[0;31m---------------------------------------------------------------------------\u001b[0m",
      "\u001b[0;31mKeyError\u001b[0m                                  Traceback (most recent call last)",
      "Cell \u001b[0;32mIn[26], line 1\u001b[0m\n\u001b[0;32m----> 1\u001b[0m env \u001b[38;5;241m=\u001b[39m \u001b[43mCarEnvironment\u001b[49m\u001b[43m(\u001b[49m\u001b[43m)\u001b[49m\n\u001b[1;32m      2\u001b[0m env\u001b[38;5;241m.\u001b[39mrender()\n",
      "Cell \u001b[0;32mIn[25], line 24\u001b[0m, in \u001b[0;36mCarEnvironment.__init__\u001b[0;34m(self)\u001b[0m\n\u001b[1;32m     11\u001b[0m \u001b[38;5;28mself\u001b[39m\u001b[38;5;241m.\u001b[39maction_space \u001b[38;5;241m=\u001b[39m Box(\u001b[38;5;241m-\u001b[39m\u001b[38;5;241m1.0\u001b[39m, \u001b[38;5;241m1.0\u001b[39m, shape \u001b[38;5;241m=\u001b[39m (\u001b[38;5;241m1\u001b[39m,\u001b[38;5;241m2\u001b[39m), dtype \u001b[38;5;241m=\u001b[39m np\u001b[38;5;241m.\u001b[39mfloat32)\n\u001b[1;32m     13\u001b[0m \u001b[38;5;28mself\u001b[39m\u001b[38;5;241m.\u001b[39mobservation_space \u001b[38;5;241m=\u001b[39m Dict({\n\u001b[1;32m     14\u001b[0m     \u001b[38;5;124m'\u001b[39m\u001b[38;5;124mGridR\u001b[39m\u001b[38;5;124m'\u001b[39m : Box(low \u001b[38;5;241m=\u001b[39m \u001b[38;5;241m0\u001b[39m, high \u001b[38;5;241m=\u001b[39m \u001b[38;5;241m255\u001b[39m, shape \u001b[38;5;241m=\u001b[39m (CarEnvironment\u001b[38;5;241m.\u001b[39mX_pixels, CarEnvironment\u001b[38;5;241m.\u001b[39mY_pixels)),\n\u001b[1;32m     15\u001b[0m     \u001b[38;5;124m'\u001b[39m\u001b[38;5;124mGridG\u001b[39m\u001b[38;5;124m'\u001b[39m : Box(low \u001b[38;5;241m=\u001b[39m \u001b[38;5;241m0\u001b[39m, high \u001b[38;5;241m=\u001b[39m \u001b[38;5;241m255\u001b[39m, shape \u001b[38;5;241m=\u001b[39m (CarEnvironment\u001b[38;5;241m.\u001b[39mX_pixels, CarEnvironment\u001b[38;5;241m.\u001b[39mY_pixels)),\n\u001b[0;32m   (...)\u001b[0m\n\u001b[1;32m     21\u001b[0m     \u001b[38;5;124m'\u001b[39m\u001b[38;5;124mTireAngle\u001b[39m\u001b[38;5;124m'\u001b[39m : Box(low \u001b[38;5;241m=\u001b[39m \u001b[38;5;241m-\u001b[39m\u001b[38;5;241m1\u001b[39m, high \u001b[38;5;241m=\u001b[39m \u001b[38;5;241m1\u001b[39m, shape \u001b[38;5;241m=\u001b[39m (\u001b[38;5;241m1\u001b[39m,\u001b[38;5;241m1\u001b[39m))\n\u001b[1;32m     22\u001b[0m })\n\u001b[0;32m---> 24\u001b[0m grid_size \u001b[38;5;241m=\u001b[39m \u001b[38;5;28;43mself\u001b[39;49m\u001b[38;5;241;43m.\u001b[39;49m\u001b[43mobservation_space\u001b[49m\u001b[43m[\u001b[49m\u001b[38;5;124;43m'\u001b[39;49m\u001b[38;5;124;43mGrid\u001b[39;49m\u001b[38;5;124;43m'\u001b[39;49m\u001b[43m]\u001b[49m\u001b[38;5;241m.\u001b[39mshape[\u001b[38;5;241m0\u001b[39m] \u001b[38;5;241m*\u001b[39m \u001b[38;5;28mself\u001b[39m\u001b[38;5;241m.\u001b[39mobservation_space[\u001b[38;5;124m'\u001b[39m\u001b[38;5;124mGrid\u001b[39m\u001b[38;5;124m'\u001b[39m]\u001b[38;5;241m.\u001b[39mshape[\u001b[38;5;241m1\u001b[39m] \n\u001b[1;32m     25\u001b[0m one_dimension_size \u001b[38;5;241m=\u001b[39m \u001b[38;5;241m5\u001b[39m\n\u001b[1;32m     28\u001b[0m \u001b[38;5;28mself\u001b[39m\u001b[38;5;241m.\u001b[39mobservation_space \u001b[38;5;241m=\u001b[39m Box(\n\u001b[1;32m     29\u001b[0m     low \u001b[38;5;241m=\u001b[39m np\u001b[38;5;241m.\u001b[39mconcatenate([\n\u001b[1;32m     30\u001b[0m         \u001b[38;5;28mself\u001b[39m\u001b[38;5;241m.\u001b[39mobservation_space[\u001b[38;5;124m'\u001b[39m\u001b[38;5;124mGrid\u001b[39m\u001b[38;5;124m'\u001b[39m]\u001b[38;5;241m.\u001b[39mlow\u001b[38;5;241m.\u001b[39mflatten(),\n\u001b[0;32m   (...)\u001b[0m\n\u001b[1;32m     46\u001b[0m     shape \u001b[38;5;241m=\u001b[39m (grid_size \u001b[38;5;241m+\u001b[39m one_dimension_size,)\n\u001b[1;32m     47\u001b[0m )\n",
      "File \u001b[0;32m~/.pyenv/versions/3.11.9/lib/python3.11/site-packages/gym/spaces/dict.py:194\u001b[0m, in \u001b[0;36mDict.__getitem__\u001b[0;34m(self, key)\u001b[0m\n\u001b[1;32m    192\u001b[0m \u001b[38;5;28;01mdef\u001b[39;00m\u001b[38;5;250m \u001b[39m\u001b[38;5;21m__getitem__\u001b[39m(\u001b[38;5;28mself\u001b[39m, key: \u001b[38;5;28mstr\u001b[39m) \u001b[38;5;241m-\u001b[39m\u001b[38;5;241m>\u001b[39m Space:\n\u001b[1;32m    193\u001b[0m \u001b[38;5;250m    \u001b[39m\u001b[38;5;124;03m\"\"\"Get the space that is associated to `key`.\"\"\"\u001b[39;00m\n\u001b[0;32m--> 194\u001b[0m     \u001b[38;5;28;01mreturn\u001b[39;00m \u001b[38;5;28;43mself\u001b[39;49m\u001b[38;5;241;43m.\u001b[39;49m\u001b[43mspaces\u001b[49m\u001b[43m[\u001b[49m\u001b[43mkey\u001b[49m\u001b[43m]\u001b[49m\n",
      "\u001b[0;31mKeyError\u001b[0m: 'Grid'"
     ]
    }
   ],
   "source": [
    "env = CarEnvironment()\n",
    "env.render()"
   ]
  },
  {
   "cell_type": "markdown",
   "metadata": {},
   "source": [
    "## Train RL Model"
   ]
  },
  {
   "cell_type": "code",
   "execution_count": null,
   "metadata": {},
   "outputs": [],
   "source": [
    "env = CarEnvironment()\n",
    "env = DummyVecEnv([lambda : env])"
   ]
  },
  {
   "cell_type": "code",
   "execution_count": null,
   "metadata": {},
   "outputs": [],
   "source": [
    "log_path = os.path.join('Training', 'Logs')\n",
    "model = PPO('CnnPolicy', env, verbose = 1, tensorboard_log=log_path)\n",
    "wrapped_env = FlattenObservationWrapper(env)"
   ]
  },
  {
   "cell_type": "markdown",
   "metadata": {},
   "source": [
    "## Save Model"
   ]
  }
 ],
 "metadata": {
  "kernelspec": {
   "display_name": "Python 3",
   "language": "python",
   "name": "python3"
  },
  "language_info": {
   "codemirror_mode": {
    "name": "ipython",
    "version": 3
   },
   "file_extension": ".py",
   "mimetype": "text/x-python",
   "name": "python",
   "nbconvert_exporter": "python",
   "pygments_lexer": "ipython3",
   "version": "3.11.9"
  }
 },
 "nbformat": 4,
 "nbformat_minor": 2
}
