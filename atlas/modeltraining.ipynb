{
 "cells": [
  {
   "cell_type": "markdown",
   "metadata": {},
   "source": [
    "## Librairies"
   ]
  },
  {
   "cell_type": "code",
   "execution_count": null,
   "metadata": {},
   "outputs": [],
   "source": [
    "from gym import Env\n",
    "import gym\n",
    "import numpy as np\n",
    "import os\n",
    "from stable_baselines3 import PPO\n",
    "from stable_baselines3.common.vec_env import DummyVecEnv\n",
    "from stable_baselines3.common.evaluation import evaluate_policy\n",
    "from gym.spaces import Discrete, Box, Dict, Tuple, MultiBinary, MultiDiscrete\n",
    "from cargame import Car, Track, Vector\n",
    "import pygame\n",
    "import sys\n"
   ]
  },
  {
   "cell_type": "markdown",
   "metadata": {},
   "source": [
    "## Load Environment"
   ]
  },
  {
   "cell_type": "code",
   "execution_count": 59,
   "metadata": {},
   "outputs": [
    {
     "name": "stdout",
     "output_type": "stream",
     "text": [
      "[2.2773973e+02 2.2283751e+02 2.3580814e+02 ... 7.3112976e+01 1.8350497e+02\n",
      " 5.2181561e-02]\n"
     ]
    }
   ],
   "source": [
    "tt = Dict({\n",
    "            'Grid' : Box(low = 0, high = 255, shape = (96, 96)),\n",
    "            'CarAngle' : Box(low = 0, high = 1, shape = (1,1)),\n",
    "            'TireAngle' : Box(low = -1, high = 1, shape = (1,1))\n",
    "        })\n",
    "\n",
    "speed_size = 1\n",
    "angle = 1\n",
    "\n",
    "# ttttt = np.concatenate([i.low.flatten() for i in tt.values()])\n",
    "# print(ttttt.sample)\n",
    "te = Box(\n",
    "    low = np.concatenate([\n",
    "        tt['Grid'].low.flatten(),\n",
    "        tt['CarAngle'].low.flatten()\n",
    "    ]),\n",
    "    high = np.concatenate([\n",
    "        tt['Grid'].high.flatten(),\n",
    "        tt['CarAngle'].high.flatten()\n",
    "    ]),\n",
    "    shape = (speed_size + angle + 96*96 -1,)\n",
    ")\n",
    "\n",
    "print(te.sample())"
   ]
  },
  {
   "cell_type": "code",
   "execution_count": 8,
   "metadata": {},
   "outputs": [],
   "source": [
    "from time import time\n",
    "from imageprocessing import image\n",
    "\n",
    "class CarEnvironment(Env):\n",
    "    X_pixels = 96\n",
    "    Y_pixels = 96\n",
    "    MAX_EPOCH_TIME = 3 * 60\n",
    "\n",
    "    def __init__(self,\n",
    "                #  track\n",
    "                 ):\n",
    "        self.action_space = Box(-1.0, 1.0, shape = (1,2), dtype = np.float32)\n",
    "\n",
    "        self.observation_space = Dict({\n",
    "            'GridR' : Box(low = 0, high = 255, shape = (CarEnvironment.X_pixels, CarEnvironment.Y_pixels)),\n",
    "            'GridG' : Box(low = 0, high = 255, shape = (CarEnvironment.X_pixels, CarEnvironment.Y_pixels)),\n",
    "            'GridB' : Box(low = 0, high = 255, shape = (CarEnvironment.X_pixels, CarEnvironment.Y_pixels)),\n",
    "            'CarPositionX' : Box(low = 0, high = CarEnvironment.X_pixels, shape=(1,1)),\n",
    "            'CarPositionY' : Box(low = 0, high = CarEnvironment.Y_pixels, shape=(1,1)),\n",
    "            'CarSpeed' : Box(low = 0, high = 1, shape = (1,1)),\n",
    "            'CarAngle' : Box(low = 0, high = 1, shape = (1,1)),\n",
    "            'TireAngle' : Box(low = -1, high = 1, shape = (1,1))\n",
    "        })\n",
    "\n",
    "        grid_size = self.observation_space['GridR'].shape[0] * self.observation_space['GridR'].shape[1] * 3 \n",
    "        one_dimension_size = 5\n",
    "        \n",
    "        \n",
    "        self.observation_space = Box(\n",
    "            low = np.concatenate([\n",
    "                self.observation_space['GridR'].low.flatten(),\n",
    "                self.observation_space['GridG'].low.flatten(),\n",
    "                self.observation_space['GridB'].low.flatten(),\n",
    "                self.observation_space['CarPositionX'].low.flatten(), \n",
    "                self.observation_space['CarPositionY'].low.flatten(),\n",
    "                self.observation_space['CarSpeed'].low.flatten(),\n",
    "                self.observation_space['CarAngle'].low.flatten(), \n",
    "                self.observation_space['TireAngle'].low.flatten() \n",
    "            ]),\n",
    "                \n",
    "            high = np.concatenate([\n",
    "                self.observation_space['GridR'].high.flatten(), \n",
    "                self.observation_space['GridG'].high.flatten(), \n",
    "                self.observation_space['GridB'].high.flatten(), \n",
    "                self.observation_space['CarPositionX'].low.flatten(),\n",
    "                self.observation_space['CarPositionY'].low.flatten(),\n",
    "                self.observation_space['CarSpeed'].high.flatten(), \n",
    "                self.observation_space['CarAngle'].high.flatten(), \n",
    "                self.observation_space['TireAngle'].high.flatten()                            \n",
    "            ]),\n",
    "            shape = (grid_size + one_dimension_size,)\n",
    "        )\n",
    "        pixels = image.transform_image('imageprocessing/image_test/real_test.jpg')\n",
    "        track = Track(pixels)\n",
    "        self.timestep = 0.1\n",
    "        self.car = Car(10, 10, 10, 30, track, 0.1, Vector(0, 5), Vector(0, -5))\n",
    "        self.start_time = time()\n",
    "    \n",
    "    def step(self, action):\n",
    "        # Apply Action \n",
    "        angle = action[0]\n",
    "        speed = action[1]\n",
    "\n",
    "        # Action\n",
    "        self.car.set_front_tire_angle(angle)\n",
    "        self.car.set_speed(speed)\n",
    "        self.car.update()\n",
    "        \n",
    "        # Terminated\n",
    "        truncated = (time() - self.start_time) > CarEnvironment.MAX_EPOCH_TIME\n",
    "        return self.car.get_state(), self.car.reward, self.car.check_if_done(), self.car.check_if_terminated(), truncated\n",
    "    \n",
    "    def reset(self):\n",
    "        self.car.reset()\n",
    "        self.start_time = time()\n",
    "\n",
    "        return self.car\n",
    "    \n",
    "    def render(self):\n",
    "        screen = pygame.display.set_mode((4000,3000))\n",
    "    \n",
    "        while True:\n",
    "            for event in pygame.event.get():\n",
    "                if event.type == pygame.QUIT:\n",
    "                    pygame.quit()\n",
    "                    sys.exit()"
   ]
  },
  {
   "cell_type": "markdown",
   "metadata": {},
   "source": [
    "## Train RL Model"
   ]
  },
  {
   "cell_type": "code",
   "execution_count": 9,
   "metadata": {},
   "outputs": [
    {
     "ename": "ValueError",
     "evalue": "The truth value of an array with more than one element is ambiguous. Use a.any() or a.all()",
     "output_type": "error",
     "traceback": [
      "\u001b[0;31m---------------------------------------------------------------------------\u001b[0m",
      "\u001b[0;31mValueError\u001b[0m                                Traceback (most recent call last)",
      "Cell \u001b[0;32mIn[9], line 1\u001b[0m\n\u001b[0;32m----> 1\u001b[0m env \u001b[38;5;241m=\u001b[39m CarEnvironment()\n",
      "Cell \u001b[0;32mIn[8], line 54\u001b[0m, in \u001b[0;36mCarEnvironment.__init__\u001b[0;34m(self)\u001b[0m\n\u001b[1;32m     29\u001b[0m \u001b[38;5;28mself\u001b[39m\u001b[38;5;241m.\u001b[39mobservation_space \u001b[38;5;241m=\u001b[39m Box(\n\u001b[1;32m     30\u001b[0m     low \u001b[38;5;241m=\u001b[39m np\u001b[38;5;241m.\u001b[39mconcatenate([\n\u001b[1;32m     31\u001b[0m         \u001b[38;5;28mself\u001b[39m\u001b[38;5;241m.\u001b[39mobservation_space[\u001b[38;5;124m'\u001b[39m\u001b[38;5;124mGridR\u001b[39m\u001b[38;5;124m'\u001b[39m]\u001b[38;5;241m.\u001b[39mlow\u001b[38;5;241m.\u001b[39mflatten(),\n\u001b[0;32m   (...)\u001b[0m\n\u001b[1;32m     51\u001b[0m     shape \u001b[38;5;241m=\u001b[39m (grid_size \u001b[38;5;241m+\u001b[39m one_dimension_size,)\n\u001b[1;32m     52\u001b[0m )\n\u001b[1;32m     53\u001b[0m pixels \u001b[38;5;241m=\u001b[39m image\u001b[38;5;241m.\u001b[39mtransform_image(\u001b[38;5;124m'\u001b[39m\u001b[38;5;124mimageprocessing/image_test/real_test.jpg\u001b[39m\u001b[38;5;124m'\u001b[39m)\n\u001b[0;32m---> 54\u001b[0m track \u001b[38;5;241m=\u001b[39m Track(pixels)\n\u001b[1;32m     55\u001b[0m \u001b[38;5;28mself\u001b[39m\u001b[38;5;241m.\u001b[39mtimestep \u001b[38;5;241m=\u001b[39m \u001b[38;5;241m0.1\u001b[39m\n\u001b[1;32m     56\u001b[0m \u001b[38;5;28mself\u001b[39m\u001b[38;5;241m.\u001b[39mcar \u001b[38;5;241m=\u001b[39m Car(\u001b[38;5;241m10\u001b[39m, \u001b[38;5;241m10\u001b[39m, \u001b[38;5;241m10\u001b[39m, \u001b[38;5;241m30\u001b[39m, track, \u001b[38;5;241m0.1\u001b[39m, Vector(\u001b[38;5;241m0\u001b[39m, \u001b[38;5;241m5\u001b[39m), Vector(\u001b[38;5;241m0\u001b[39m, \u001b[38;5;241m-\u001b[39m\u001b[38;5;241m5\u001b[39m))\n",
      "File \u001b[0;32m~/Desktop/Atlas-mobile/atlas/cargame/track.py:15\u001b[0m, in \u001b[0;36mTrack.__init__\u001b[0;34m(self, pixels)\u001b[0m\n\u001b[1;32m     10\u001b[0m \u001b[38;5;28;01mdef\u001b[39;00m \u001b[38;5;21m__init__\u001b[39m(\n\u001b[1;32m     11\u001b[0m         \u001b[38;5;28mself\u001b[39m,\n\u001b[1;32m     12\u001b[0m         pixels : np\u001b[38;5;241m.\u001b[39mndarray\n\u001b[1;32m     13\u001b[0m ):\n\u001b[1;32m     14\u001b[0m     \u001b[38;5;28mself\u001b[39m\u001b[38;5;241m.\u001b[39mpixels \u001b[38;5;241m=\u001b[39m pixels\n\u001b[0;32m---> 15\u001b[0m     red_pixels \u001b[38;5;241m=\u001b[39m \u001b[38;5;28mself\u001b[39m\u001b[38;5;241m.\u001b[39mget_red_pixel_list()\n\u001b[1;32m     16\u001b[0m     y_pixels \u001b[38;5;241m=\u001b[39m [pix\u001b[38;5;241m.\u001b[39my \u001b[38;5;28;01mfor\u001b[39;00m pix \u001b[38;5;129;01min\u001b[39;00m red_pixels]\n\u001b[1;32m     17\u001b[0m     x_pixels \u001b[38;5;241m=\u001b[39m [pix\u001b[38;5;241m.\u001b[39mx \u001b[38;5;28;01mfor\u001b[39;00m pix \u001b[38;5;129;01min\u001b[39;00m red_pixels]\n",
      "File \u001b[0;32m~/Desktop/Atlas-mobile/atlas/cargame/track.py:28\u001b[0m, in \u001b[0;36mTrack.get_red_pixel_list\u001b[0;34m(self)\u001b[0m\n\u001b[1;32m     26\u001b[0m \u001b[38;5;28;01mfor\u001b[39;00m i \u001b[38;5;129;01min\u001b[39;00m \u001b[38;5;28mrange\u001b[39m(\u001b[38;5;241m0\u001b[39m, \u001b[38;5;28mlen\u001b[39m(\u001b[38;5;28mself\u001b[39m\u001b[38;5;241m.\u001b[39mpixels)):\n\u001b[1;32m     27\u001b[0m     \u001b[38;5;28;01mfor\u001b[39;00m j \u001b[38;5;129;01min\u001b[39;00m \u001b[38;5;28mrange\u001b[39m(\u001b[38;5;241m0\u001b[39m, \u001b[38;5;28mlen\u001b[39m(\u001b[38;5;28mself\u001b[39m\u001b[38;5;241m.\u001b[39mpixels)):\n\u001b[0;32m---> 28\u001b[0m         \u001b[38;5;28;01mif\u001b[39;00m \u001b[38;5;28mself\u001b[39m\u001b[38;5;241m.\u001b[39mpixels[i][j] \u001b[38;5;241m==\u001b[39m (\u001b[38;5;241m255\u001b[39m, \u001b[38;5;241m0\u001b[39m, \u001b[38;5;241m0\u001b[39m):\n\u001b[1;32m     29\u001b[0m             x_positions\u001b[38;5;241m.\u001b[39mappend(i)\n\u001b[1;32m     30\u001b[0m             y_positions\u001b[38;5;241m.\u001b[39mappend(\u001b[38;5;28mlen\u001b[39m(\u001b[38;5;28mself\u001b[39m\u001b[38;5;241m.\u001b[39mpixels \u001b[38;5;241m-\u001b[39m\u001b[38;5;241m1\u001b[39m \u001b[38;5;241m-\u001b[39m i))\n",
      "\u001b[0;31mValueError\u001b[0m: The truth value of an array with more than one element is ambiguous. Use a.any() or a.all()"
     ]
    }
   ],
   "source": [
    "env = CarEnvironment()\n",
    "# env = DummyVecEnv([lambda : env])"
   ]
  },
  {
   "cell_type": "code",
   "execution_count": 6,
   "metadata": {},
   "outputs": [
    {
     "ename": "NameError",
     "evalue": "name 'env' is not defined",
     "output_type": "error",
     "traceback": [
      "\u001b[0;31m---------------------------------------------------------------------------\u001b[0m",
      "\u001b[0;31mNameError\u001b[0m                                 Traceback (most recent call last)",
      "Cell \u001b[0;32mIn[6], line 2\u001b[0m\n\u001b[1;32m      1\u001b[0m log_path \u001b[38;5;241m=\u001b[39m os\u001b[38;5;241m.\u001b[39mpath\u001b[38;5;241m.\u001b[39mjoin(\u001b[38;5;124m'\u001b[39m\u001b[38;5;124mTraining\u001b[39m\u001b[38;5;124m'\u001b[39m, \u001b[38;5;124m'\u001b[39m\u001b[38;5;124mLogs\u001b[39m\u001b[38;5;124m'\u001b[39m)\n\u001b[0;32m----> 2\u001b[0m model \u001b[38;5;241m=\u001b[39m PPO(\u001b[38;5;124m'\u001b[39m\u001b[38;5;124mCnnPolicy\u001b[39m\u001b[38;5;124m'\u001b[39m, env, verbose \u001b[38;5;241m=\u001b[39m \u001b[38;5;241m1\u001b[39m, tensorboard_log\u001b[38;5;241m=\u001b[39mlog_path)\n",
      "\u001b[0;31mNameError\u001b[0m: name 'env' is not defined"
     ]
    }
   ],
   "source": [
    "log_path = os.path.join('Training', 'Logs')\n",
    "model = PPO('CnnPolicy', env, verbose = 1, tensorboard_log=log_path)\n"
   ]
  },
  {
   "cell_type": "markdown",
   "metadata": {},
   "source": [
    "## Save Model"
   ]
  }
 ],
 "metadata": {
  "kernelspec": {
   "display_name": "base",
   "language": "python",
   "name": "python3"
  },
  "language_info": {
   "codemirror_mode": {
    "name": "ipython",
    "version": 3
   },
   "file_extension": ".py",
   "mimetype": "text/x-python",
   "name": "python",
   "nbconvert_exporter": "python",
   "pygments_lexer": "ipython3",
   "version": "3.12.4"
  }
 },
 "nbformat": 4,
 "nbformat_minor": 2
}
