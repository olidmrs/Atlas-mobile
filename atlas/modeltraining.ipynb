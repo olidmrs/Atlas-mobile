{
 "cells": [
  {
   "cell_type": "markdown",
   "metadata": {},
   "source": [
    "## Librairies"
   ]
  },
  {
   "cell_type": "code",
   "execution_count": 27,
   "metadata": {},
   "outputs": [
    {
     "ename": "ModuleNotFoundError",
     "evalue": "No module named 'car'",
     "output_type": "error",
     "traceback": [
      "\u001b[0;31m---------------------------------------------------------------------------\u001b[0m",
      "\u001b[0;31mModuleNotFoundError\u001b[0m                       Traceback (most recent call last)",
      "Cell \u001b[0;32mIn[27], line 11\u001b[0m\n\u001b[1;32m      7\u001b[0m \u001b[38;5;28;01mfrom\u001b[39;00m\u001b[38;5;250m \u001b[39m\u001b[38;5;21;01mstable_baselines3\u001b[39;00m\u001b[38;5;21;01m.\u001b[39;00m\u001b[38;5;21;01mcommon\u001b[39;00m\u001b[38;5;21;01m.\u001b[39;00m\u001b[38;5;21;01mevaluation\u001b[39;00m\u001b[38;5;250m \u001b[39m\u001b[38;5;28;01mimport\u001b[39;00m evaluate_policy\n\u001b[1;32m      8\u001b[0m \u001b[38;5;28;01mfrom\u001b[39;00m\u001b[38;5;250m \u001b[39m\u001b[38;5;21;01mgym\u001b[39;00m\u001b[38;5;21;01m.\u001b[39;00m\u001b[38;5;21;01mspaces\u001b[39;00m\u001b[38;5;250m \u001b[39m\u001b[38;5;28;01mimport\u001b[39;00m Discrete, Box, Dict, Tuple, MultiBinary, MultiDiscrete\n\u001b[0;32m---> 11\u001b[0m \u001b[38;5;28;01mfrom\u001b[39;00m\u001b[38;5;250m \u001b[39m\u001b[38;5;21;01mcargame\u001b[39;00m\u001b[38;5;21;01m.\u001b[39;00m\u001b[38;5;21;01mtrack\u001b[39;00m\u001b[38;5;250m \u001b[39m\u001b[38;5;28;01mimport\u001b[39;00m Track\n",
      "File \u001b[0;32m~/Documents/Personal Projects/Atlas-mobile/Atlas-mobile/atlas/cargame/__init__.py:1\u001b[0m\n\u001b[0;32m----> 1\u001b[0m \u001b[38;5;28;01mfrom\u001b[39;00m\u001b[38;5;250m \u001b[39m\u001b[38;5;21;01mcar\u001b[39;00m\u001b[38;5;250m \u001b[39m\u001b[38;5;28;01mimport\u001b[39;00m Car\n\u001b[1;32m      2\u001b[0m \u001b[38;5;28;01mfrom\u001b[39;00m\u001b[38;5;250m \u001b[39m\u001b[38;5;21;01mtrack\u001b[39;00m\u001b[38;5;250m \u001b[39m\u001b[38;5;28;01mimport\u001b[39;00m Track\n\u001b[1;32m      4\u001b[0m \u001b[38;5;28;01massert\u001b[39;00m Car\n",
      "\u001b[0;31mModuleNotFoundError\u001b[0m: No module named 'car'"
     ]
    }
   ],
   "source": [
    "from gym import Env\n",
    "import gym\n",
    "import numpy as np\n",
    "import os\n",
    "from stable_baselines3 import PPO\n",
    "from stable_baselines3.common.vec_env import DummyVecEnv\n",
    "from stable_baselines3.common.evaluation import evaluate_policy\n",
    "from gym.spaces import Discrete, Box, Dict, Tuple, MultiBinary, MultiDiscrete\n",
    "\n",
    "\n",
    "from cargame.track import Track"
   ]
  },
  {
   "cell_type": "code",
   "execution_count": null,
   "metadata": {},
   "outputs": [],
   "source": []
  },
  {
   "cell_type": "code",
   "execution_count": 47,
   "metadata": {},
   "outputs": [
    {
     "ename": "AttributeError",
     "evalue": "'tuple' object has no attribute 'sample'",
     "output_type": "error",
     "traceback": [
      "\u001b[0;31m---------------------------------------------------------------------------\u001b[0m",
      "\u001b[0;31mAttributeError\u001b[0m                            Traceback (most recent call last)",
      "Cell \u001b[0;32mIn[47], line 1\u001b[0m\n\u001b[0;32m----> 1\u001b[0m test \u001b[38;5;241m=\u001b[39m Box(low \u001b[38;5;241m=\u001b[39m \u001b[38;5;241m-\u001b[39m\u001b[38;5;241m1\u001b[39m, high \u001b[38;5;241m=\u001b[39m \u001b[38;5;241m1\u001b[39m, shape \u001b[38;5;241m=\u001b[39m \u001b[43m(\u001b[49m\u001b[38;5;241;43m1\u001b[39;49m\u001b[43m,\u001b[49m\u001b[43m)\u001b[49m\u001b[38;5;241;43m.\u001b[39;49m\u001b[43msample\u001b[49m())\n",
      "\u001b[0;31mAttributeError\u001b[0m: 'tuple' object has no attribute 'sample'"
     ]
    }
   ],
   "source": [
    "test = Dict({\n",
    "            'Grid' : Box(low = 0, high = 255, shape = (96, 96)),\n",
    "            'CarSpeed' : Box(low = 0, high = 1, shape = (1)),\n",
    "            'CarAngle' : Box(low = 0, high = 1, shape = (1,)),\n",
    "            'TireAngle' : Box(low = -1, high = 1, shape = (1,))\n",
    "        })"
   ]
  },
  {
   "cell_type": "code",
   "execution_count": 52,
   "metadata": {},
   "outputs": [
    {
     "name": "stdout",
     "output_type": "stream",
     "text": [
      "[-0.6682087]\n"
     ]
    }
   ],
   "source": [
    "# print(test.sample())\n",
    "\n",
    "print(Box(low = -1, high = 1).sample())"
   ]
  },
  {
   "cell_type": "markdown",
   "metadata": {},
   "source": [
    "## Load Environment"
   ]
  },
  {
   "cell_type": "code",
   "execution_count": 59,
   "metadata": {},
   "outputs": [
    {
     "name": "stdout",
     "output_type": "stream",
     "text": [
      "[2.2773973e+02 2.2283751e+02 2.3580814e+02 ... 7.3112976e+01 1.8350497e+02\n",
      " 5.2181561e-02]\n"
     ]
    }
   ],
   "source": [
    "tt = Dict({\n",
    "            'Grid' : Box(low = 0, high = 255, shape = (96, 96)),\n",
    "            'CarAngle' : Box(low = 0, high = 1, shape = (1,1)),\n",
    "            'TireAngle' : Box(low = -1, high = 1, shape = (1,1))\n",
    "        })\n",
    "\n",
    "speed_size = 1\n",
    "angle = 1\n",
    "\n",
    "# ttttt = np.concatenate([i.low.flatten() for i in tt.values()])\n",
    "# print(ttttt.sample)\n",
    "te = Box(\n",
    "    low = np.concatenate([\n",
    "        tt['Grid'].low.flatten(),\n",
    "        tt['CarAngle'].low.flatten()\n",
    "    ]),\n",
    "    high = np.concatenate([\n",
    "        tt['Grid'].high.flatten(),\n",
    "        tt['CarAngle'].high.flatten()\n",
    "    ]),\n",
    "    shape = (speed_size + angle + 96*96 -1,)\n",
    ")\n",
    "\n",
    "print(te.sample())"
   ]
  },
  {
   "cell_type": "code",
   "execution_count": null,
   "metadata": {},
   "outputs": [],
   "source": []
  },
  {
   "cell_type": "code",
   "execution_count": 27,
   "metadata": {},
   "outputs": [
    {
     "name": "stdout",
     "output_type": "stream",
     "text": [
      "[1, 2, 3]\n"
     ]
    }
   ],
   "source": [
    "teas = {\n",
    "    1 : 1,\n",
    "    2 : 3,\n",
    "    3 : 5\n",
    "}\n",
    "\n",
    "print(list(teas.keys()))\n",
    "\n"
   ]
  },
  {
   "cell_type": "code",
   "execution_count": 13,
   "metadata": {},
   "outputs": [],
   "source": [
    "class CarEnvironment(Env):\n",
    "    X_pixels = 96\n",
    "    Y_pixels = 96\n",
    "\n",
    "    def __init__(self,\n",
    "                #  track\n",
    "                 ):\n",
    "        self.action_space = Box(-1.0, 1.0, shape = (1,2), dtype = np.float32)\n",
    "        \n",
    "        # TODO Connect to environment \n",
    "        self.observation_space = Dict({\n",
    "            'Grid' : Box(low = 0, high = 255, shape = (CarEnvironment.X_pixels, CarEnvironment.Y_pixels)),\n",
    "            'CarPositionX' : Box(low = 0, high = CarEnvironment.X_pixels, shape=(1,1)),\n",
    "            'CarPositionY' : Box(low = 0, high = CarEnvironment.Y_pixels, shape=(1,1)),\n",
    "            'CarSpeed' : Box(low = 0, high = 1, shape = (1,1)),\n",
    "            'CarAngle' : Box(low = 0, high = 1, shape = (1,1)),\n",
    "            'TireAngle' : Box(low = -1, high = 1, shape = (1,1))\n",
    "        })\n",
    "\n",
    "        grid_size = self.observation_space['Grid'].shape[0] * self.observation_space['Grid'].shape[1] \n",
    "        one_dimension_size = 5\n",
    "        \n",
    "        \n",
    "        self.observation_space = Box(\n",
    "            low = np.concatenate([\n",
    "                self.observation_space['Grid'].low.flatten(),\n",
    "                self.observation_space['CarPositionX'].low.flatten(), \n",
    "                self.observation_space['CarPositionY'].low.flatten(),\n",
    "                self.observation_space['CarSpeed'].low.flatten(),\n",
    "                self.observation_space['CarAngle'].low.flatten(), \n",
    "                self.observation_space['TireAngle'].low.flatten() \n",
    "            ]),\n",
    "                \n",
    "            high = np.concatenate([\n",
    "                self.observation_space['Grid'].high.flatten(), \n",
    "                self.observation_space['CarPositionX'].low.flatten(),\n",
    "                self.observation_space['CarPositionY'].low.flatten(),\n",
    "                self.observation_space['CarSpeed'].high.flatten(), \n",
    "                self.observation_space['CarAngle'].high.flatten(), \n",
    "                self.observation_space['TireAngle'].high.flatten()                            \n",
    "            ]),\n",
    "            shape = (grid_size + one_dimension_size,)\n",
    "        )\n",
    "\n",
    "        self.state = Box()\n",
    "\n",
    "        \n",
    "        \n",
    "    \n",
    "    # def step(self, action):\n",
    "    #     # Apply Action \n",
    "    #     self.state\n",
    "    #     # Action \n",
    "    #     # Reward\n",
    "    #     # Terminated\n",
    "        \n",
    "    #     return Test.get_state(), reward, done, info\n",
    "    \n",
    "    # def reset(self):\n",
    "    #     self.state = \n",
    "    #     return\n",
    "    "
   ]
  },
  {
   "cell_type": "code",
   "execution_count": 24,
   "metadata": {},
   "outputs": [
    {
     "name": "stdout",
     "output_type": "stream",
     "text": [
      "[ 2.5364552e+02  2.0951057e+02  1.5068939e+02 ...  2.2933185e-01\n",
      "  6.2688448e-02 -2.7636907e-01]\n"
     ]
    }
   ],
   "source": [
    "\n",
    "Cartest = CarEnvironment()\n",
    "\n",
    "print(Cartest.observation_space.sample())\n",
    "\n"
   ]
  },
  {
   "cell_type": "markdown",
   "metadata": {},
   "source": [
    "## Train RL Model"
   ]
  },
  {
   "cell_type": "code",
   "execution_count": null,
   "metadata": {},
   "outputs": [],
   "source": [
    "env = CarEnvironment()\n",
    "env = DummyVecEnv([lambda : env])"
   ]
  },
  {
   "cell_type": "code",
   "execution_count": null,
   "metadata": {},
   "outputs": [],
   "source": [
    "log_path = os.path.join('Training', 'Logs')\n",
    "model = PPO('CnnPolicy', env, verbose = 1, tensorboard_log=log_path)\n",
    "wrapped_env = FlattenObservationWrapper(env)"
   ]
  },
  {
   "cell_type": "markdown",
   "metadata": {},
   "source": [
    "## Save Model"
   ]
  }
 ],
 "metadata": {
  "kernelspec": {
   "display_name": "Python 3",
   "language": "python",
   "name": "python3"
  },
  "language_info": {
   "codemirror_mode": {
    "name": "ipython",
    "version": 3
   },
   "file_extension": ".py",
   "mimetype": "text/x-python",
   "name": "python",
   "nbconvert_exporter": "python",
   "pygments_lexer": "ipython3",
   "version": "3.11.9"
  }
 },
 "nbformat": 4,
 "nbformat_minor": 2
}
