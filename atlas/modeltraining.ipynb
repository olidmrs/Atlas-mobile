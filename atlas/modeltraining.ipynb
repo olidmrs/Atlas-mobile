{
 "cells": [
  {
   "cell_type": "markdown",
   "metadata": {},
   "source": [
    "## Librairies"
   ]
  },
  {
   "cell_type": "code",
   "execution_count": 23,
   "metadata": {},
   "outputs": [],
   "source": [
    "from gym import Env\n",
    "import gym\n",
    "import numpy as np\n",
    "import os\n",
    "from stable_baselines3 import PPO\n",
    "from stable_baselines3.common.vec_env import DummyVecEnv\n",
    "from stable_baselines3.common.evaluation import evaluate_policy\n",
    "from gym.spaces import Discrete, Box, Dict, Tuple, MultiBinary, MultiDiscrete\n",
    "from cargame import Car, Track, Vector\n"
   ]
  },
  {
   "cell_type": "markdown",
   "metadata": {},
   "source": [
    "## Load Environment"
   ]
  },
  {
   "cell_type": "code",
   "execution_count": 59,
   "metadata": {},
   "outputs": [
    {
     "name": "stdout",
     "output_type": "stream",
     "text": [
      "[2.2773973e+02 2.2283751e+02 2.3580814e+02 ... 7.3112976e+01 1.8350497e+02\n",
      " 5.2181561e-02]\n"
     ]
    }
   ],
   "source": [
    "tt = Dict({\n",
    "            'Grid' : Box(low = 0, high = 255, shape = (96, 96)),\n",
    "            'CarAngle' : Box(low = 0, high = 1, shape = (1,1)),\n",
    "            'TireAngle' : Box(low = -1, high = 1, shape = (1,1))\n",
    "        })\n",
    "\n",
    "speed_size = 1\n",
    "angle = 1\n",
    "\n",
    "# ttttt = np.concatenate([i.low.flatten() for i in tt.values()])\n",
    "# print(ttttt.sample)\n",
    "te = Box(\n",
    "    low = np.concatenate([\n",
    "        tt['Grid'].low.flatten(),\n",
    "        tt['CarAngle'].low.flatten()\n",
    "    ]),\n",
    "    high = np.concatenate([\n",
    "        tt['Grid'].high.flatten(),\n",
    "        tt['CarAngle'].high.flatten()\n",
    "    ]),\n",
    "    shape = (speed_size + angle + 96*96 -1,)\n",
    ")\n",
    "\n",
    "print(te.sample())"
   ]
  },
  {
   "cell_type": "code",
   "execution_count": 9,
   "metadata": {},
   "outputs": [],
   "source": [
    "from time import time\n",
    "\n",
    "class CarEnvironment(Env):\n",
    "    X_pixels = 96\n",
    "    Y_pixels = 96\n",
    "    MAX_EPOCH_TIME = 3 * 60\n",
    "\n",
    "    def __init__(self,\n",
    "                #  track\n",
    "                 ):\n",
    "        self.action_space = Box(-1.0, 1.0, shape = (1,2), dtype = np.float32)\n",
    "        \n",
    "        # TODO Connect to environment \n",
    "        self.observation_space = Dict({\n",
    "            'GridR' : Box(low = 0, high = 255, shape = (CarEnvironment.X_pixels, CarEnvironment.Y_pixels)),\n",
    "            'GridG' : Box(low = 0, high = 255, shape = (CarEnvironment.X_pixels, CarEnvironment.Y_pixels)),\n",
    "            'GridB' : Box(low = 0, high = 255, shape = (CarEnvironment.X_pixels, CarEnvironment.Y_pixels)),\n",
    "            'CarPositionX' : Box(low = 0, high = CarEnvironment.X_pixels, shape=(1,1)),\n",
    "            'CarPositionY' : Box(low = 0, high = CarEnvironment.Y_pixels, shape=(1,1)),\n",
    "            'CarSpeed' : Box(low = 0, high = 1, shape = (1,1)),\n",
    "            'CarAngle' : Box(low = 0, high = 1, shape = (1,1)),\n",
    "            'TireAngle' : Box(low = -1, high = 1, shape = (1,1))\n",
    "        })\n",
    "\n",
    "        grid_size = self.observation_space['Grid'].shape[0] * self.observation_space['Grid'].shape[1] \n",
    "        one_dimension_size = 5\n",
    "        \n",
    "        \n",
    "        self.observation_space = Box(\n",
    "            low = np.concatenate([\n",
    "                self.observation_space['Grid'].low.flatten(),\n",
    "                self.observation_space['CarPositionX'].low.flatten(), \n",
    "                self.observation_space['CarPositionY'].low.flatten(),\n",
    "                self.observation_space['CarSpeed'].low.flatten(),\n",
    "                self.observation_space['CarAngle'].low.flatten(), \n",
    "                self.observation_space['TireAngle'].low.flatten() \n",
    "            ]),\n",
    "                \n",
    "            high = np.concatenate([\n",
    "                self.observation_space['Grid'].high.flatten(), \n",
    "                self.observation_space['CarPositionX'].low.flatten(),\n",
    "                self.observation_space['CarPositionY'].low.flatten(),\n",
    "                self.observation_space['CarSpeed'].high.flatten(), \n",
    "                self.observation_space['CarAngle'].high.flatten(), \n",
    "                self.observation_space['TireAngle'].high.flatten()                            \n",
    "            ]),\n",
    "            shape = (grid_size + one_dimension_size,)\n",
    "        )\n",
    "        pixels = np.array()\n",
    "        track = Track(pixels)\n",
    "        self.timestep = 0.1\n",
    "        self.car = Car(10, 10, 10, 30, track, 0.1, Vector(0, 5), Vector(0, -5))\n",
    "        self.start_time = time()\n",
    "    \n",
    "    def step(self, action):\n",
    "        # Apply Action \n",
    "        angle = action[0]\n",
    "        speed = action[1]\n",
    "\n",
    "        # Action\n",
    "        self.car.set_front_tire_angle(angle)\n",
    "        self.car.set_speed(speed)\n",
    "        self.car.update()\n",
    "        \n",
    "        # Terminated\n",
    "        truncated = (time() - self.start_time) > CarEnvironment.MAX_EPOCH_TIME\n",
    "        return self.car.get_state(), self.car.reward, self.car.check_if_done(), self.car.check_if_terminated(), truncated\n",
    "    \n",
    "    def reset(self):\n",
    "        self.car.reset()\n",
    "        self.start_time = time()\n",
    "\n",
    "        return self.car\n",
    "    "
   ]
  },
  {
   "cell_type": "markdown",
   "metadata": {},
   "source": [
    "## Train RL Model"
   ]
  },
  {
   "cell_type": "code",
   "execution_count": null,
   "metadata": {},
   "outputs": [],
   "source": [
    "env = CarEnvironment()\n",
    "env = DummyVecEnv([lambda : env])"
   ]
  },
  {
   "cell_type": "code",
   "execution_count": null,
   "metadata": {},
   "outputs": [],
   "source": [
    "log_path = os.path.join('Training', 'Logs')\n",
    "model = PPO('CnnPolicy', env, verbose = 1, tensorboard_log=log_path)\n",
    "wrapped_env = FlattenObservationWrapper(env)"
   ]
  },
  {
   "cell_type": "markdown",
   "metadata": {},
   "source": [
    "## Save Model"
   ]
  }
 ],
 "metadata": {
  "kernelspec": {
   "display_name": "Python 3",
   "language": "python",
   "name": "python3"
  },
  "language_info": {
   "codemirror_mode": {
    "name": "ipython",
    "version": 3
   },
   "file_extension": ".py",
   "mimetype": "text/x-python",
   "name": "python",
   "nbconvert_exporter": "python",
   "pygments_lexer": "ipython3",
   "version": "3.11.9"
  }
 },
 "nbformat": 4,
 "nbformat_minor": 2
}
