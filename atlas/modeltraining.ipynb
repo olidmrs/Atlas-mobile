{
 "cells": [
  {
   "cell_type": "markdown",
   "metadata": {},
   "source": [
    "## Librairies"
   ]
  },
  {
   "cell_type": "code",
   "execution_count": 1,
   "metadata": {},
   "outputs": [],
   "source": [
    "from gymnasium import Env\n",
    "import gymnasium\n",
    "import numpy as np\n",
    "import os\n",
    "from stable_baselines3.common import env_checker\n",
    "from stable_baselines3 import PPO\n",
    "from stable_baselines3.common.vec_env import DummyVecEnv\n",
    "from stable_baselines3.common.evaluation import evaluate_policy\n",
    "from gymnasium.spaces import Discrete, Box, Dict, Tuple, MultiBinary, MultiDiscrete\n",
    "from cargame import Car, Track, Vector\n",
    "import pygame\n",
    "import sys\n"
   ]
  },
  {
   "cell_type": "markdown",
   "metadata": {},
   "source": [
    "## Load Environment"
   ]
  },
  {
   "cell_type": "code",
   "execution_count": 59,
   "metadata": {},
   "outputs": [
    {
     "name": "stdout",
     "output_type": "stream",
     "text": [
      "[2.2773973e+02 2.2283751e+02 2.3580814e+02 ... 7.3112976e+01 1.8350497e+02\n",
      " 5.2181561e-02]\n"
     ]
    }
   ],
   "source": [
    "tt = Dict({\n",
    "            'Grid' : Box(low = 0, high = 255, shape = (96, 96)),\n",
    "            'CarAngle' : Box(low = 0, high = 1, shape = (1,1)),\n",
    "            'TireAngle' : Box(low = -1, high = 1, shape = (1,1))\n",
    "        })\n",
    "\n",
    "speed_size = 1\n",
    "angle = 1\n",
    "\n",
    "# ttttt = np.concatenate([i.low.flatten() for i in tt.values()])\n",
    "# print(ttttt.sample)\n",
    "te = Box(\n",
    "    low = np.concatenate([\n",
    "        tt['Grid'].low.flatten(),\n",
    "        tt['CarAngle'].low.flatten()\n",
    "    ]),\n",
    "    high = np.concatenate([\n",
    "        tt['Grid'].high.flatten(),\n",
    "        tt['CarAngle'].high.flatten()\n",
    "    ]),\n",
    "    shape = (speed_size + angle + 96*96 -1,)\n",
    ")\n",
    "\n",
    "print(te.sample())"
   ]
  },
  {
   "cell_type": "code",
   "execution_count": 8,
   "metadata": {},
   "outputs": [],
   "source": [
    "from time import time\n",
    "\n",
    "class CarEnvironment(Env):\n",
    "    MAX_EPOCH_TIME = 3 * 60\n",
    "\n",
    "    def __init__(self,\n",
    "                 ):\n",
    "        self.action_space = Box(low=np.array([0, -1.0]), high=np.array([1.0, 1.0]), shape = (2,), dtype = np.float32)\n",
    "\n",
    "        print(\"Loading pixels from image\")\n",
    "        pixels = image.transform_image('imageprocessing/image_test/test3redgreen.png')\n",
    "        print(pixels.shape)\n",
    "        plt.imshow(pixels, cmap='gray') \n",
    "\n",
    "        print(\"Creating track\")\n",
    "        track = Track(pixels)\n",
    "        self.timestep = 0.1\n",
    "        \n",
    "        print(\"Creating Car\")\n",
    "        self.car = Car(12, 15, 2, 30, track, 0.1, Vector(0, 7), Vector(4.5, -5))\n",
    "\n",
    "        print(\"Making observation space\")\n",
    "        cm_per_pixel = self.car.body_length / track.car_dimensions.y\n",
    "        self.observation_space = Dict({\n",
    "            'GridR' : Box(low = 0, high = 255, shape = (pixels.shape[1], pixels.shape[0]), dtype=np.uint8),\n",
    "            'GridG' : Box(low = 0, high = 255, shape = (pixels.shape[1], pixels.shape[0]), dtype=np.uint8),\n",
    "            'GridB' : Box(low = 0, high = 255, shape = (pixels.shape[1], pixels.shape[0]), dtype=np.uint8),\n",
    "            'CarPositionX' : Box(low = 0, high = pixels.shape[1] * cm_per_pixel, shape=(1,1)),\n",
    "            'CarPositionY' : Box(low = 0, high = pixels.shape[0] * cm_per_pixel, shape=(1,1)),\n",
    "            'CarSpeed' : Box(low = 0, high = 1, shape = (1,1)),\n",
    "            'CarAngle' : Box(low = 0, high = 1, shape = (1,1)),\n",
    "            'TireAngle' : Box(low = -1, high = 1, shape = (1,1))\n",
    "        })\n",
    "\n",
    "        grid_size = self.observation_space['Grid'].shape[0] * self.observation_space['Grid'].shape[1] \n",
    "        one_dimension_size = 5\n",
    "        \n",
    "        print(\"Making flat observation space\")\n",
    "        self.observation_space = Box(\n",
    "            low = np.concatenate([\n",
    "                self.observation_space['Grid'].low.flatten(),\n",
    "                self.observation_space['CarPositionX'].low.flatten(), \n",
    "                self.observation_space['CarPositionY'].low.flatten(),\n",
    "                self.observation_space['CarSpeed'].low.flatten(),\n",
    "                self.observation_space['CarAngle'].low.flatten(), \n",
    "                self.observation_space['TireAngle'].low.flatten() \n",
    "            ]),\n",
    "                \n",
    "            high = np.concatenate([\n",
    "                self.observation_space['GridR'].high.flatten(), \n",
    "                self.observation_space['GridG'].high.flatten(), \n",
    "                self.observation_space['GridB'].high.flatten(), \n",
    "                self.observation_space['CarPositionX'].low.flatten(),\n",
    "                self.observation_space['CarPositionY'].low.flatten(),\n",
    "                self.observation_space['CarSpeed'].high.flatten(), \n",
    "                self.observation_space['CarAngle'].high.flatten(), \n",
    "                self.observation_space['TireAngle'].high.flatten()                            \n",
    "            ]),\n",
    "            shape = (grid_size + one_dimension_size,)\n",
    "        )\n",
    "        pixels = image.transform_image('imageprocessing/image_test/real_test.jpg')\n",
    "        track = Track(pixels)\n",
    "        self.timestep = 0.1\n",
    "        self.car = Car(10, 10, 10, 30, track, 0.1, Vector(0, 5), Vector(0, -5))\n",
    "        self.start_time = time()\n",
    "    \n",
    "    def step(self, action):\n",
    "        print(\"Reward:\", self.car.reward)\n",
    "        # Apply Action \n",
    "        angle = action[1]\n",
    "        speed = action[0]\n",
    "\n",
    "        # Action\n",
    "        self.car.set_front_tire_angle(angle)\n",
    "        self.car.set_speed(speed)\n",
    "        self.car.update()\n",
    "        \n",
    "        # Terminated\n",
    "        truncated = (time() - self.start_time) > CarEnvironment.MAX_EPOCH_TIME\n",
    "        return self.car.get_state(), self.car.reward, self.car.check_if_done(), self.car.check_if_terminated(), truncated\n",
    "    \n",
    "    def reset(self):\n",
    "        self.car.reset()\n",
    "        self.start_time = time()\n",
    "\n",
    "        return (self.car.get_state(), {})\n",
    "    \n",
    "    def render(self):\n",
    "        screen = pygame.display.set_mode((4000,3000))\n",
    "        bg_track = pygame.image.load('atlas/imageprocessing/image_test/test3redgreen.png')\n",
    "\n",
    "        while True:\n",
    "            for event in pygame.event.get():\n",
    "                if event.type == pygame.QUIT:\n",
    "                    pygame.quit()\n",
    "                    sys.exit()\n",
    "\n",
    "    def close(self) -> None:\n",
    "        pass"
   ]
  },
  {
   "cell_type": "code",
   "execution_count": 30,
   "metadata": {},
   "outputs": [
    {
     "ename": "KeyError",
     "evalue": "'Grid'",
     "output_type": "error",
     "traceback": [
      "\u001b[0;31m---------------------------------------------------------------------------\u001b[0m",
      "\u001b[0;31mKeyError\u001b[0m                                  Traceback (most recent call last)",
      "Cell \u001b[0;32mIn[30], line 1\u001b[0m\n\u001b[0;32m----> 1\u001b[0m env \u001b[38;5;241m=\u001b[39m \u001b[43mCarEnvironment\u001b[49m\u001b[43m(\u001b[49m\u001b[43m)\u001b[49m\n\u001b[1;32m      2\u001b[0m env\u001b[38;5;241m.\u001b[39mrender()\n",
      "Cell \u001b[0;32mIn[29], line 24\u001b[0m, in \u001b[0;36mCarEnvironment.__init__\u001b[0;34m(self)\u001b[0m\n\u001b[1;32m     11\u001b[0m \u001b[38;5;28mself\u001b[39m\u001b[38;5;241m.\u001b[39maction_space \u001b[38;5;241m=\u001b[39m Box(\u001b[38;5;241m-\u001b[39m\u001b[38;5;241m1.0\u001b[39m, \u001b[38;5;241m1.0\u001b[39m, shape \u001b[38;5;241m=\u001b[39m (\u001b[38;5;241m1\u001b[39m,\u001b[38;5;241m2\u001b[39m), dtype \u001b[38;5;241m=\u001b[39m np\u001b[38;5;241m.\u001b[39mfloat32)\n\u001b[1;32m     13\u001b[0m \u001b[38;5;28mself\u001b[39m\u001b[38;5;241m.\u001b[39mobservation_space \u001b[38;5;241m=\u001b[39m Dict({\n\u001b[1;32m     14\u001b[0m     \u001b[38;5;124m'\u001b[39m\u001b[38;5;124mGridR\u001b[39m\u001b[38;5;124m'\u001b[39m : Box(low \u001b[38;5;241m=\u001b[39m \u001b[38;5;241m0\u001b[39m, high \u001b[38;5;241m=\u001b[39m \u001b[38;5;241m255\u001b[39m, shape \u001b[38;5;241m=\u001b[39m (CarEnvironment\u001b[38;5;241m.\u001b[39mX_pixels, CarEnvironment\u001b[38;5;241m.\u001b[39mY_pixels)),\n\u001b[1;32m     15\u001b[0m     \u001b[38;5;124m'\u001b[39m\u001b[38;5;124mGridG\u001b[39m\u001b[38;5;124m'\u001b[39m : Box(low \u001b[38;5;241m=\u001b[39m \u001b[38;5;241m0\u001b[39m, high \u001b[38;5;241m=\u001b[39m \u001b[38;5;241m255\u001b[39m, shape \u001b[38;5;241m=\u001b[39m (CarEnvironment\u001b[38;5;241m.\u001b[39mX_pixels, CarEnvironment\u001b[38;5;241m.\u001b[39mY_pixels)),\n\u001b[0;32m   (...)\u001b[0m\n\u001b[1;32m     21\u001b[0m     \u001b[38;5;124m'\u001b[39m\u001b[38;5;124mTireAngle\u001b[39m\u001b[38;5;124m'\u001b[39m : Box(low \u001b[38;5;241m=\u001b[39m \u001b[38;5;241m-\u001b[39m\u001b[38;5;241m1\u001b[39m, high \u001b[38;5;241m=\u001b[39m \u001b[38;5;241m1\u001b[39m, shape \u001b[38;5;241m=\u001b[39m (\u001b[38;5;241m1\u001b[39m,\u001b[38;5;241m1\u001b[39m))\n\u001b[1;32m     22\u001b[0m })\n\u001b[0;32m---> 24\u001b[0m grid_size \u001b[38;5;241m=\u001b[39m \u001b[38;5;28;43mself\u001b[39;49m\u001b[38;5;241;43m.\u001b[39;49m\u001b[43mobservation_space\u001b[49m\u001b[43m[\u001b[49m\u001b[38;5;124;43m'\u001b[39;49m\u001b[38;5;124;43mGrid\u001b[39;49m\u001b[38;5;124;43m'\u001b[39;49m\u001b[43m]\u001b[49m\u001b[38;5;241m.\u001b[39mshape[\u001b[38;5;241m0\u001b[39m] \u001b[38;5;241m*\u001b[39m \u001b[38;5;28mself\u001b[39m\u001b[38;5;241m.\u001b[39mobservation_space[\u001b[38;5;124m'\u001b[39m\u001b[38;5;124mGrid\u001b[39m\u001b[38;5;124m'\u001b[39m]\u001b[38;5;241m.\u001b[39mshape[\u001b[38;5;241m1\u001b[39m] \n\u001b[1;32m     25\u001b[0m one_dimension_size \u001b[38;5;241m=\u001b[39m \u001b[38;5;241m5\u001b[39m\n\u001b[1;32m     28\u001b[0m \u001b[38;5;28mself\u001b[39m\u001b[38;5;241m.\u001b[39mobservation_space \u001b[38;5;241m=\u001b[39m Box(\n\u001b[1;32m     29\u001b[0m     low \u001b[38;5;241m=\u001b[39m np\u001b[38;5;241m.\u001b[39mconcatenate([\n\u001b[1;32m     30\u001b[0m         \u001b[38;5;28mself\u001b[39m\u001b[38;5;241m.\u001b[39mobservation_space[\u001b[38;5;124m'\u001b[39m\u001b[38;5;124mGrid\u001b[39m\u001b[38;5;124m'\u001b[39m]\u001b[38;5;241m.\u001b[39mlow\u001b[38;5;241m.\u001b[39mflatten(),\n\u001b[0;32m   (...)\u001b[0m\n\u001b[1;32m     46\u001b[0m     shape \u001b[38;5;241m=\u001b[39m (grid_size \u001b[38;5;241m+\u001b[39m one_dimension_size,)\n\u001b[1;32m     47\u001b[0m )\n",
      "File \u001b[0;32m~/.pyenv/versions/3.11.9/lib/python3.11/site-packages/gym/spaces/dict.py:194\u001b[0m, in \u001b[0;36mDict.__getitem__\u001b[0;34m(self, key)\u001b[0m\n\u001b[1;32m    192\u001b[0m \u001b[38;5;28;01mdef\u001b[39;00m\u001b[38;5;250m \u001b[39m\u001b[38;5;21m__getitem__\u001b[39m(\u001b[38;5;28mself\u001b[39m, key: \u001b[38;5;28mstr\u001b[39m) \u001b[38;5;241m-\u001b[39m\u001b[38;5;241m>\u001b[39m Space:\n\u001b[1;32m    193\u001b[0m \u001b[38;5;250m    \u001b[39m\u001b[38;5;124;03m\"\"\"Get the space that is associated to `key`.\"\"\"\u001b[39;00m\n\u001b[0;32m--> 194\u001b[0m     \u001b[38;5;28;01mreturn\u001b[39;00m \u001b[38;5;28;43mself\u001b[39;49m\u001b[38;5;241;43m.\u001b[39;49m\u001b[43mspaces\u001b[49m\u001b[43m[\u001b[49m\u001b[43mkey\u001b[49m\u001b[43m]\u001b[49m\n",
      "\u001b[0;31mKeyError\u001b[0m: 'Grid'"
     ]
    }
   ],
   "source": [
    "env = CarEnvironment()\n",
    "env.render()"
   ]
  },
  {
   "cell_type": "markdown",
   "metadata": {},
   "source": [
    "## Train RL Model"
   ]
  },
  {
   "cell_type": "code",
   "execution_count": 9,
   "metadata": {},
   "outputs": [
    {
     "ename": "ValueError",
     "evalue": "The truth value of an array with more than one element is ambiguous. Use a.any() or a.all()",
     "output_type": "error",
     "traceback": [
      "\u001b[0;31m---------------------------------------------------------------------------\u001b[0m",
      "\u001b[0;31mValueError\u001b[0m                                Traceback (most recent call last)",
      "Cell \u001b[0;32mIn[9], line 1\u001b[0m\n\u001b[0;32m----> 1\u001b[0m env \u001b[38;5;241m=\u001b[39m CarEnvironment()\n",
      "Cell \u001b[0;32mIn[8], line 54\u001b[0m, in \u001b[0;36mCarEnvironment.__init__\u001b[0;34m(self)\u001b[0m\n\u001b[1;32m     29\u001b[0m \u001b[38;5;28mself\u001b[39m\u001b[38;5;241m.\u001b[39mobservation_space \u001b[38;5;241m=\u001b[39m Box(\n\u001b[1;32m     30\u001b[0m     low \u001b[38;5;241m=\u001b[39m np\u001b[38;5;241m.\u001b[39mconcatenate([\n\u001b[1;32m     31\u001b[0m         \u001b[38;5;28mself\u001b[39m\u001b[38;5;241m.\u001b[39mobservation_space[\u001b[38;5;124m'\u001b[39m\u001b[38;5;124mGridR\u001b[39m\u001b[38;5;124m'\u001b[39m]\u001b[38;5;241m.\u001b[39mlow\u001b[38;5;241m.\u001b[39mflatten(),\n\u001b[0;32m   (...)\u001b[0m\n\u001b[1;32m     51\u001b[0m     shape \u001b[38;5;241m=\u001b[39m (grid_size \u001b[38;5;241m+\u001b[39m one_dimension_size,)\n\u001b[1;32m     52\u001b[0m )\n\u001b[1;32m     53\u001b[0m pixels \u001b[38;5;241m=\u001b[39m image\u001b[38;5;241m.\u001b[39mtransform_image(\u001b[38;5;124m'\u001b[39m\u001b[38;5;124mimageprocessing/image_test/real_test.jpg\u001b[39m\u001b[38;5;124m'\u001b[39m)\n\u001b[0;32m---> 54\u001b[0m track \u001b[38;5;241m=\u001b[39m Track(pixels)\n\u001b[1;32m     55\u001b[0m \u001b[38;5;28mself\u001b[39m\u001b[38;5;241m.\u001b[39mtimestep \u001b[38;5;241m=\u001b[39m \u001b[38;5;241m0.1\u001b[39m\n\u001b[1;32m     56\u001b[0m \u001b[38;5;28mself\u001b[39m\u001b[38;5;241m.\u001b[39mcar \u001b[38;5;241m=\u001b[39m Car(\u001b[38;5;241m10\u001b[39m, \u001b[38;5;241m10\u001b[39m, \u001b[38;5;241m10\u001b[39m, \u001b[38;5;241m30\u001b[39m, track, \u001b[38;5;241m0.1\u001b[39m, Vector(\u001b[38;5;241m0\u001b[39m, \u001b[38;5;241m5\u001b[39m), Vector(\u001b[38;5;241m0\u001b[39m, \u001b[38;5;241m-\u001b[39m\u001b[38;5;241m5\u001b[39m))\n",
      "File \u001b[0;32m~/Desktop/Atlas-mobile/atlas/cargame/track.py:15\u001b[0m, in \u001b[0;36mTrack.__init__\u001b[0;34m(self, pixels)\u001b[0m\n\u001b[1;32m     10\u001b[0m \u001b[38;5;28;01mdef\u001b[39;00m \u001b[38;5;21m__init__\u001b[39m(\n\u001b[1;32m     11\u001b[0m         \u001b[38;5;28mself\u001b[39m,\n\u001b[1;32m     12\u001b[0m         pixels : np\u001b[38;5;241m.\u001b[39mndarray\n\u001b[1;32m     13\u001b[0m ):\n\u001b[1;32m     14\u001b[0m     \u001b[38;5;28mself\u001b[39m\u001b[38;5;241m.\u001b[39mpixels \u001b[38;5;241m=\u001b[39m pixels\n\u001b[0;32m---> 15\u001b[0m     red_pixels \u001b[38;5;241m=\u001b[39m \u001b[38;5;28mself\u001b[39m\u001b[38;5;241m.\u001b[39mget_red_pixel_list()\n\u001b[1;32m     16\u001b[0m     y_pixels \u001b[38;5;241m=\u001b[39m [pix\u001b[38;5;241m.\u001b[39my \u001b[38;5;28;01mfor\u001b[39;00m pix \u001b[38;5;129;01min\u001b[39;00m red_pixels]\n\u001b[1;32m     17\u001b[0m     x_pixels \u001b[38;5;241m=\u001b[39m [pix\u001b[38;5;241m.\u001b[39mx \u001b[38;5;28;01mfor\u001b[39;00m pix \u001b[38;5;129;01min\u001b[39;00m red_pixels]\n",
      "File \u001b[0;32m~/Desktop/Atlas-mobile/atlas/cargame/track.py:28\u001b[0m, in \u001b[0;36mTrack.get_red_pixel_list\u001b[0;34m(self)\u001b[0m\n\u001b[1;32m     26\u001b[0m \u001b[38;5;28;01mfor\u001b[39;00m i \u001b[38;5;129;01min\u001b[39;00m \u001b[38;5;28mrange\u001b[39m(\u001b[38;5;241m0\u001b[39m, \u001b[38;5;28mlen\u001b[39m(\u001b[38;5;28mself\u001b[39m\u001b[38;5;241m.\u001b[39mpixels)):\n\u001b[1;32m     27\u001b[0m     \u001b[38;5;28;01mfor\u001b[39;00m j \u001b[38;5;129;01min\u001b[39;00m \u001b[38;5;28mrange\u001b[39m(\u001b[38;5;241m0\u001b[39m, \u001b[38;5;28mlen\u001b[39m(\u001b[38;5;28mself\u001b[39m\u001b[38;5;241m.\u001b[39mpixels)):\n\u001b[0;32m---> 28\u001b[0m         \u001b[38;5;28;01mif\u001b[39;00m \u001b[38;5;28mself\u001b[39m\u001b[38;5;241m.\u001b[39mpixels[i][j] \u001b[38;5;241m==\u001b[39m (\u001b[38;5;241m255\u001b[39m, \u001b[38;5;241m0\u001b[39m, \u001b[38;5;241m0\u001b[39m):\n\u001b[1;32m     29\u001b[0m             x_positions\u001b[38;5;241m.\u001b[39mappend(i)\n\u001b[1;32m     30\u001b[0m             y_positions\u001b[38;5;241m.\u001b[39mappend(\u001b[38;5;28mlen\u001b[39m(\u001b[38;5;28mself\u001b[39m\u001b[38;5;241m.\u001b[39mpixels \u001b[38;5;241m-\u001b[39m\u001b[38;5;241m1\u001b[39m \u001b[38;5;241m-\u001b[39m i))\n",
      "\u001b[0;31mValueError\u001b[0m: The truth value of an array with more than one element is ambiguous. Use a.any() or a.all()"
     ]
    }
   ],
   "source": [
    "env = CarEnvironment()\n",
    "env = DummyVecEnv([lambda : env])"
   ]
  },
  {
   "cell_type": "code",
   "execution_count": 4,
   "metadata": {},
   "outputs": [
    {
     "name": "stderr",
     "output_type": "stream",
     "text": [
      "/Users/jeffbrin/.local/lib/python3.12/site-packages/stable_baselines3/common/env_checker.py:461: UserWarning: We recommend you to use a symmetric and normalized Box action space (range=[-1, 1]) cf. https://stable-baselines3.readthedocs.io/en/master/guide/rl_tips.html\n",
      "  warnings.warn(\n"
     ]
    },
    {
     "name": "stdout",
     "output_type": "stream",
     "text": [
      "Reward: 5\n",
      "True\n",
      "Reward: 5\n",
      "True\n",
      "Reward: 5\n",
      "True\n",
      "Reward: 5\n",
      "True\n",
      "Reward: 5\n",
      "True\n",
      "Reward: 5\n",
      "True\n",
      "Reward: 5\n",
      "True\n",
      "Reward: 5\n",
      "True\n",
      "Reward: 5\n",
      "True\n",
      "Reward: 5\n",
      "True\n",
      "Reward: 5\n",
      "True\n"
     ]
    }
   ],
   "source": [
    "env_checker.check_env(env, warn=True, skip_render_check=True)"
   ]
  },
  {
   "cell_type": "code",
   "execution_count": 8,
   "metadata": {},
   "outputs": [
    {
     "name": "stdout",
     "output_type": "stream",
     "text": [
      "Using cpu device\n",
      "Wrapping the env with a `Monitor` wrapper\n",
      "Wrapping the env in a DummyVecEnv.\n"
     ]
    },
    {
     "name": "stderr",
     "output_type": "stream",
     "text": [
      "/Users/jeffbrin/.local/lib/python3.12/site-packages/stable_baselines3/ppo/ppo.py:155: UserWarning: You have specified a mini-batch size of 64, but because the `RolloutBuffer` is of size `n_steps * n_envs = 2`, after every 0 untruncated mini-batches, there will be a truncated mini-batch of size 2\n",
      "We recommend using a `batch_size` that is a factor of `n_steps * n_envs`.\n",
      "Info: (n_steps=2 and n_envs=1)\n",
      "  warnings.warn(\n"
     ]
    }
   ],
   "source": [
    "log_path = os.path.join('Training', 'Logs')\n",
    "# model = PPO('CnnPolicy', env, verbose = 1, tensorboard_log=log_path)\n",
    "model = PPO('MlpPolicy', env, verbose = 2, tensorboard_log=log_path, n_steps=2)\n"
   ]
  },
  {
   "cell_type": "code",
   "execution_count": 14,
   "metadata": {},
   "outputs": [
    {
     "name": "stdout",
     "output_type": "stream",
     "text": [
      "Logging to Training/Logs/PPO_31\n"
     ]
    },
    {
     "data": {
      "application/vnd.jupyter.widget-view+json": {
       "model_id": "92dd9f5768c0479aac053f33857e197c",
       "version_major": 2,
       "version_minor": 0
      },
      "text/plain": [
       "Output()"
      ]
     },
     "metadata": {},
     "output_type": "display_data"
    },
    {
     "data": {
      "text/html": [
       "<pre style=\"white-space:pre;overflow-x:auto;line-height:normal;font-family:Menlo,'DejaVu Sans Mono',consolas,'Courier New',monospace\">Reward: 5\n",
       "</pre>\n"
      ],
      "text/plain": [
       "Reward: 5\n"
      ]
     },
     "metadata": {},
     "output_type": "display_data"
    },
    {
     "data": {
      "text/html": [
       "<pre style=\"white-space:pre;overflow-x:auto;line-height:normal;font-family:Menlo,'DejaVu Sans Mono',consolas,'Courier New',monospace\">True\n",
       "</pre>\n"
      ],
      "text/plain": [
       "True\n"
      ]
     },
     "metadata": {},
     "output_type": "display_data"
    },
    {
     "data": {
      "text/html": [
       "<pre style=\"white-space:pre;overflow-x:auto;line-height:normal;font-family:Menlo,'DejaVu Sans Mono',consolas,'Courier New',monospace\">Reward: 5\n",
       "</pre>\n"
      ],
      "text/plain": [
       "Reward: 5\n"
      ]
     },
     "metadata": {},
     "output_type": "display_data"
    },
    {
     "data": {
      "text/html": [
       "<pre style=\"white-space:pre;overflow-x:auto;line-height:normal;font-family:Menlo,'DejaVu Sans Mono',consolas,'Courier New',monospace\">True\n",
       "</pre>\n"
      ],
      "text/plain": [
       "True\n"
      ]
     },
     "metadata": {},
     "output_type": "display_data"
    },
    {
     "name": "stdout",
     "output_type": "stream",
     "text": [
      "---------------------------------\n",
      "| rollout/           |          |\n",
      "|    ep_len_mean     | 1        |\n",
      "|    ep_rew_mean     | 4        |\n",
      "| time/              |          |\n",
      "|    fps             | 27       |\n",
      "|    iterations      | 1        |\n",
      "|    time_elapsed    | 0        |\n",
      "|    total_timesteps | 2        |\n",
      "---------------------------------\n"
     ]
    },
    {
     "data": {
      "text/html": [
       "<pre style=\"white-space:pre;overflow-x:auto;line-height:normal;font-family:Menlo,'DejaVu Sans Mono',consolas,'Courier New',monospace\">Reward: 5\n",
       "</pre>\n"
      ],
      "text/plain": [
       "Reward: 5\n"
      ]
     },
     "metadata": {},
     "output_type": "display_data"
    },
    {
     "data": {
      "text/html": [
       "<pre style=\"white-space:pre;overflow-x:auto;line-height:normal;font-family:Menlo,'DejaVu Sans Mono',consolas,'Courier New',monospace\">True\n",
       "</pre>\n"
      ],
      "text/plain": [
       "True\n"
      ]
     },
     "metadata": {},
     "output_type": "display_data"
    },
    {
     "data": {
      "text/html": [
       "<pre style=\"white-space:pre;overflow-x:auto;line-height:normal;font-family:Menlo,'DejaVu Sans Mono',consolas,'Courier New',monospace\">Reward: 5\n",
       "</pre>\n"
      ],
      "text/plain": [
       "Reward: 5\n"
      ]
     },
     "metadata": {},
     "output_type": "display_data"
    },
    {
     "data": {
      "text/html": [
       "<pre style=\"white-space:pre;overflow-x:auto;line-height:normal;font-family:Menlo,'DejaVu Sans Mono',consolas,'Courier New',monospace\">True\n",
       "</pre>\n"
      ],
      "text/plain": [
       "True\n"
      ]
     },
     "metadata": {},
     "output_type": "display_data"
    },
    {
     "name": "stdout",
     "output_type": "stream",
     "text": [
      "--------------------------------------\n",
      "| rollout/                |          |\n",
      "|    ep_len_mean          | 1        |\n",
      "|    ep_rew_mean          | 4        |\n",
      "| time/                   |          |\n",
      "|    fps                  | 21       |\n",
      "|    iterations           | 2        |\n",
      "|    time_elapsed         | 0        |\n",
      "|    total_timesteps      | 4        |\n",
      "| train/                  |          |\n",
      "|    approx_kl            | 0.0      |\n",
      "|    clip_fraction        | 0        |\n",
      "|    clip_range           | 0.2      |\n",
      "|    entropy_loss         | -2.84    |\n",
      "|    explained_variance   | nan      |\n",
      "|    learning_rate        | 0.0003   |\n",
      "|    loss                 | 0        |\n",
      "|    n_updates            | 630      |\n",
      "|    policy_gradient_loss | 0        |\n",
      "|    std                  | 1        |\n",
      "|    value_loss           | 0        |\n",
      "--------------------------------------\n"
     ]
    },
    {
     "data": {
      "text/html": [
       "<pre style=\"white-space:pre;overflow-x:auto;line-height:normal;font-family:Menlo,'DejaVu Sans Mono',consolas,'Courier New',monospace\">Reward: 5\n",
       "</pre>\n"
      ],
      "text/plain": [
       "Reward: 5\n"
      ]
     },
     "metadata": {},
     "output_type": "display_data"
    },
    {
     "data": {
      "text/html": [
       "<pre style=\"white-space:pre;overflow-x:auto;line-height:normal;font-family:Menlo,'DejaVu Sans Mono',consolas,'Courier New',monospace\">True\n",
       "</pre>\n"
      ],
      "text/plain": [
       "True\n"
      ]
     },
     "metadata": {},
     "output_type": "display_data"
    },
    {
     "data": {
      "text/html": [
       "<pre style=\"white-space:pre;overflow-x:auto;line-height:normal;font-family:Menlo,'DejaVu Sans Mono',consolas,'Courier New',monospace\">Reward: 5\n",
       "</pre>\n"
      ],
      "text/plain": [
       "Reward: 5\n"
      ]
     },
     "metadata": {},
     "output_type": "display_data"
    },
    {
     "data": {
      "text/html": [
       "<pre style=\"white-space:pre;overflow-x:auto;line-height:normal;font-family:Menlo,'DejaVu Sans Mono',consolas,'Courier New',monospace\">True\n",
       "</pre>\n"
      ],
      "text/plain": [
       "True\n"
      ]
     },
     "metadata": {},
     "output_type": "display_data"
    },
    {
     "name": "stdout",
     "output_type": "stream",
     "text": [
      "--------------------------------------\n",
      "| rollout/                |          |\n",
      "|    ep_len_mean          | 1        |\n",
      "|    ep_rew_mean          | 4        |\n",
      "| time/                   |          |\n",
      "|    fps                  | 19       |\n",
      "|    iterations           | 3        |\n",
      "|    time_elapsed         | 0        |\n",
      "|    total_timesteps      | 6        |\n",
      "| train/                  |          |\n",
      "|    approx_kl            | 0.0      |\n",
      "|    clip_fraction        | 0        |\n",
      "|    clip_range           | 0.2      |\n",
      "|    entropy_loss         | -2.84    |\n",
      "|    explained_variance   | nan      |\n",
      "|    learning_rate        | 0.0003   |\n",
      "|    loss                 | 0        |\n",
      "|    n_updates            | 640      |\n",
      "|    policy_gradient_loss | 0        |\n",
      "|    std                  | 1        |\n",
      "|    value_loss           | 0        |\n",
      "--------------------------------------\n"
     ]
    },
    {
     "data": {
      "text/html": [
       "<pre style=\"white-space:pre;overflow-x:auto;line-height:normal;font-family:Menlo,'DejaVu Sans Mono',consolas,'Courier New',monospace\"></pre>\n"
      ],
      "text/plain": []
     },
     "metadata": {},
     "output_type": "display_data"
    },
    {
     "data": {
      "text/html": [
       "<pre style=\"white-space:pre;overflow-x:auto;line-height:normal;font-family:Menlo,'DejaVu Sans Mono',consolas,'Courier New',monospace\">\n",
       "</pre>\n"
      ],
      "text/plain": [
       "\n"
      ]
     },
     "metadata": {},
     "output_type": "display_data"
    },
    {
     "data": {
      "text/plain": [
       "<stable_baselines3.ppo.ppo.PPO at 0x17562d940>"
      ]
     },
     "execution_count": 14,
     "metadata": {},
     "output_type": "execute_result"
    }
   ],
   "source": [
    "env.reset()\n",
    "model.learn(total_timesteps=50, progress_bar=True, )\n"
   ]
  },
  {
   "cell_type": "markdown",
   "metadata": {},
   "source": [
    "## Save Model"
   ]
  },
  {
   "cell_type": "code",
   "execution_count": 33,
   "metadata": {},
   "outputs": [],
   "source": [
    "import pygame"
   ]
  },
  {
   "cell_type": "code",
   "execution_count": null,
   "metadata": {},
   "outputs": [],
   "source": [
    "screen = pygame.display.set_mode((4000,3000))\n",
    "bg_track = pygame.image.load('imageprocessing/image_test/test3redgreen.png')\n",
    "\n",
    "while True:\n",
    "    for event in pygame.event.get():\n",
    "        if event.type == pygame.QUIT:\n",
    "            pygame.quit()\n",
    "            sys.exit()"
   ]
  }
 ],
 "metadata": {
  "kernelspec": {
   "display_name": "Python 3",
   "language": "python",
   "name": "python3"
  },
  "language_info": {
   "codemirror_mode": {
    "name": "ipython",
    "version": 3
   },
   "file_extension": ".py",
   "mimetype": "text/x-python",
   "name": "python",
   "nbconvert_exporter": "python",
   "pygments_lexer": "ipython3",
   "version": "3.11.9"
  }
 },
 "nbformat": 4,
 "nbformat_minor": 2
}
