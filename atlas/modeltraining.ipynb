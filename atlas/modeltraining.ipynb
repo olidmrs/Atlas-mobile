{
 "cells": [
  {
   "cell_type": "markdown",
   "metadata": {},
   "source": [
    "## Librairies"
   ]
  },
  {
   "cell_type": "code",
   "execution_count": 11,
   "metadata": {},
   "outputs": [],
   "source": [
    "from gymnasium import Env\n",
    "import gymnasium\n",
    "import numpy as np\n",
    "import os\n",
    "from stable_baselines3.common import env_checker\n",
    "from stable_baselines3 import PPO\n",
    "from stable_baselines3.common.vec_env import DummyVecEnv\n",
    "from stable_baselines3.common.evaluation import evaluate_policy\n",
    "from gymnasium.spaces import Discrete, Box, Dict, Tuple, MultiBinary, MultiDiscrete\n",
    "from cargame import Car, Track, Vector\n",
    "import pygame\n",
    "import sys\n",
    "import matplotlib.pyplot as plt\n",
    "from gymnasium.wrappers import FlattenObservation"
   ]
  },
  {
   "cell_type": "markdown",
   "metadata": {},
   "source": [
    "## Load Environment"
   ]
  },
  {
   "cell_type": "code",
   "execution_count": 2,
   "metadata": {},
   "outputs": [],
   "source": [
    "def plot_car(background, car_position_pixels, size) -> None:\n",
    "    fig, ax = plt.subplots()\n",
    "    ax.imshow(background, cmap='gray')\n",
    "    ax.plot(car_position_pixels.x,car_position_pixels.y, 'yo', markersize = size)\n",
    "    plt.title('Binary Road Mask')\n",
    "    plt.axis('off')  \n",
    "    plt.show()"
   ]
  },
  {
   "cell_type": "code",
   "execution_count": 14,
   "metadata": {},
   "outputs": [],
   "source": [
    "from time import time\n",
    "from imageprocessing import image\n",
    "\n",
    "class CarEnvironment(Env):\n",
    "    MAX_EPOCH_TIME = 3 * 60\n",
    "\n",
    "    def __init__(self,\n",
    "                 ):\n",
    "        # (speed, angle)\n",
    "        self.action_space = Box(low=np.array([0.0, -1.0]), high=np.array([1.0, 1.0]), shape = (2,), dtype = np.float32)\n",
    "\n",
    "        print(\"Loading pixels from image\")\n",
    "        pixels = image.transform_image('imageprocessing/image_test/test3redgreen.png')\n",
    "        print(pixels.shape)\n",
    "        plt.imshow(pixels, cmap='gray') \n",
    "\n",
    "        print(\"Creating track\")\n",
    "        track = Track(pixels)\n",
    "        self.timestep = 0.1\n",
    "        \n",
    "        print(\"Creating Car\")\n",
    "        self.car = Car(12, 15, 0.5, 70, track, 0.05, Vector(0, 7), Vector(4.5, -5))\n",
    "\n",
    "        print(\"Making observation space\")\n",
    "        cm_per_pixel = self.car.body_length / track.car_dimensions.y\n",
    "        self.observation_space = Dict({\n",
    "            'GridR' : Box(low = 0, high = 255, shape = (pixels.shape[1], pixels.shape[0]), dtype=np.uint8),\n",
    "            'GridG' : Box(low = 0, high = 255, shape = (pixels.shape[1], pixels.shape[0]), dtype=np.uint8),\n",
    "            'GridB' : Box(low = 0, high = 255, shape = (pixels.shape[1], pixels.shape[0]), dtype=np.uint8),\n",
    "            'CarPositionX' : Box(low = 0, high = pixels.shape[1] * cm_per_pixel, shape=(1,1)),\n",
    "            'CarPositionY' : Box(low = 0, high = pixels.shape[0] * cm_per_pixel, shape=(1,1)),\n",
    "            'CarSpeed' : Box(low = 0, high = 1, shape = (1,1)),\n",
    "            'CarAngle' : Box(low = 0, high = 1, shape = (1,1)),\n",
    "            'TireAngle' : Box(low = -1, high = 1, shape = (1,1))\n",
    "        })\n",
    "\n",
    "        grid_size = self.observation_space['GridR'].shape[0] * self.observation_space['GridR'].shape[1] * 3 \n",
    "        one_dimension_size = 5\n",
    "        \n",
    "        print(\"Making flat observation space\")\n",
    "        self.observation_space = Box(\n",
    "            low = np.concatenate([\n",
    "                self.observation_space['GridR'].low.flatten(),\n",
    "                self.observation_space['GridG'].low.flatten(),\n",
    "                self.observation_space['GridB'].low.flatten(),\n",
    "                self.observation_space['CarPositionX'].low.flatten(), \n",
    "                self.observation_space['CarPositionY'].low.flatten(),\n",
    "                self.observation_space['CarSpeed'].low.flatten(),\n",
    "                self.observation_space['CarAngle'].low.flatten(), \n",
    "                self.observation_space['TireAngle'].low.flatten() \n",
    "            ]),\n",
    "                \n",
    "            high = np.concatenate([\n",
    "                self.observation_space['GridR'].high.flatten(), \n",
    "                self.observation_space['GridG'].high.flatten(), \n",
    "                self.observation_space['GridB'].high.flatten(), \n",
    "                self.observation_space['CarPositionX'].high.flatten(),\n",
    "                self.observation_space['CarPositionY'].high.flatten(),\n",
    "                self.observation_space['CarSpeed'].high.flatten(), \n",
    "                self.observation_space['CarAngle'].high.flatten(), \n",
    "                self.observation_space['TireAngle'].high.flatten()                            \n",
    "            ]),\n",
    "            shape = (grid_size + one_dimension_size,)\n",
    "        )\n",
    "\n",
    "        self.start_time = time()\n",
    "    \n",
    "    def step(self, action):\n",
    "        print(\"Reward:\", self.car.reward)\n",
    "        # Apply Action \n",
    "        angle = action[1]\n",
    "        speed = action[0]\n",
    "\n",
    "        # Action\n",
    "        self.car.set_front_tire_angle(angle)\n",
    "        self.car.set_speed(speed)\n",
    "        self.car.update()\n",
    "        \n",
    "        print(self.car.angle)\n",
    "        print(self.car.tire_angle)\n",
    "        plot_car(self.car.track.pixels, self.car.get_pixel_position(), self.car.track.car_dimensions.x)\n",
    "        \n",
    "        # Terminated\n",
    "        truncated = (time() - self.start_time) > CarEnvironment.MAX_EPOCH_TIME\n",
    "        return self.car.get_state(), self.car.reward, self.car.check_if_done() or self.car.check_if_terminated(), truncated, {}\n",
    "    \n",
    "    def reset(self, seed):\n",
    "        self.car.reset()\n",
    "        self.start_time = time()\n",
    "        plot_car(self.car.track.pixels, self.car.get_pixel_position(), self.car.track.car_dimensions.x)\n",
    "        return (self.car.get_state(), {})\n",
    "    \n",
    "    def render(self):\n",
    "        screen = pygame.display.set_mode((4000,3000))\n",
    "    \n",
    "        while True:\n",
    "            for event in pygame.event.get():\n",
    "                if event.type == pygame.QUIT:\n",
    "                    pygame.quit()\n",
    "                    sys.exit()\n",
    "\n",
    "    def close(self) -> None:\n",
    "        pass"
   ]
  },
  {
   "cell_type": "markdown",
   "metadata": {},
   "source": [
    "## Train RL Model"
   ]
  },
  {
   "cell_type": "code",
   "execution_count": 15,
   "metadata": {},
   "outputs": [
    {
     "name": "stdout",
     "output_type": "stream",
     "text": [
      "Loading pixels from image\n",
      "(96, 96, 3)\n",
      "Creating track\n",
      "Getting Start Pixel List\n",
      "Got Start Pixel List\n",
      "Creating Car\n",
      "Making observation space\n",
      "Making flat observation space\n"
     ]
    },
    {
     "name": "stderr",
     "output_type": "stream",
     "text": [
      "/Users/oli.dmrs/.pyenv/versions/3.11.9/lib/python3.11/site-packages/gymnasium/spaces/box.py:235: UserWarning: \u001b[33mWARN: Box low's precision lowered by casting to float32, current low.dtype=float64\u001b[0m\n",
      "  gym.logger.warn(\n",
      "/Users/oli.dmrs/.pyenv/versions/3.11.9/lib/python3.11/site-packages/gymnasium/spaces/box.py:305: UserWarning: \u001b[33mWARN: Box high's precision lowered by casting to float32, current high.dtype=float64\u001b[0m\n",
      "  gym.logger.warn(\n"
     ]
    },
    {
     "data": {
      "image/png": "[encoded data removed]",
      "text/plain": [
       "<Figure size 640x480 with 1 Axes>"
      ]
     },
     "metadata": {},
     "output_type": "display_data"
    }
   ],
   "source": [
    "env = CarEnvironment()\n",
    "# env = DummyVecEnv([lambda : env])"
   ]
  },
  {
   "cell_type": "code",
   "execution_count": 16,
   "metadata": {},
   "outputs": [
    {
     "ename": "TypeError",
     "evalue": "The reset() method must accept a `seed` parameter",
     "output_type": "error",
     "traceback": [
      "\u001b[0;31m---------------------------------------------------------------------------\u001b[0m",
      "\u001b[0;31mTypeError\u001b[0m                                 Traceback (most recent call last)",
      "File \u001b[0;32m~/.pyenv/versions/3.11.9/lib/python3.11/site-packages/stable_baselines3/common/env_checker.py:441\u001b[0m, in \u001b[0;36mcheck_env\u001b[0;34m(env, warn, skip_render_check)\u001b[0m\n\u001b[1;32m    440\u001b[0m \u001b[38;5;28;01mtry\u001b[39;00m:\n\u001b[0;32m--> 441\u001b[0m     \u001b[43menv\u001b[49m\u001b[38;5;241;43m.\u001b[39;49m\u001b[43mreset\u001b[49m\u001b[43m(\u001b[49m\u001b[43mseed\u001b[49m\u001b[38;5;241;43m=\u001b[39;49m\u001b[38;5;241;43m0\u001b[39;49m\u001b[43m)\u001b[49m\n\u001b[1;32m    442\u001b[0m \u001b[38;5;28;01mexcept\u001b[39;00m \u001b[38;5;167;01mTypeError\u001b[39;00m \u001b[38;5;28;01mas\u001b[39;00m e:\n",
      "\u001b[0;31mTypeError\u001b[0m: CarEnvironment.reset() got an unexpected keyword argument 'seed'",
      "\nThe above exception was the direct cause of the following exception:\n",
      "\u001b[0;31mTypeError\u001b[0m                                 Traceback (most recent call last)",
      "Cell \u001b[0;32mIn[16], line 1\u001b[0m\n\u001b[0;32m----> 1\u001b[0m \u001b[43menv_checker\u001b[49m\u001b[38;5;241;43m.\u001b[39;49m\u001b[43mcheck_env\u001b[49m\u001b[43m(\u001b[49m\u001b[43menv\u001b[49m\u001b[43m,\u001b[49m\u001b[43m \u001b[49m\u001b[43mwarn\u001b[49m\u001b[38;5;241;43m=\u001b[39;49m\u001b[38;5;28;43;01mTrue\u001b[39;49;00m\u001b[43m,\u001b[49m\u001b[43m \u001b[49m\u001b[43mskip_render_check\u001b[49m\u001b[38;5;241;43m=\u001b[39;49m\u001b[38;5;28;43;01mTrue\u001b[39;49;00m\u001b[43m)\u001b[49m\n",
      "File \u001b[0;32m~/.pyenv/versions/3.11.9/lib/python3.11/site-packages/stable_baselines3/common/env_checker.py:443\u001b[0m, in \u001b[0;36mcheck_env\u001b[0;34m(env, warn, skip_render_check)\u001b[0m\n\u001b[1;32m    441\u001b[0m     env\u001b[38;5;241m.\u001b[39mreset(seed\u001b[38;5;241m=\u001b[39m\u001b[38;5;241m0\u001b[39m)\n\u001b[1;32m    442\u001b[0m \u001b[38;5;28;01mexcept\u001b[39;00m \u001b[38;5;167;01mTypeError\u001b[39;00m \u001b[38;5;28;01mas\u001b[39;00m e:\n\u001b[0;32m--> 443\u001b[0m     \u001b[38;5;28;01mraise\u001b[39;00m \u001b[38;5;167;01mTypeError\u001b[39;00m(\u001b[38;5;124m\"\u001b[39m\u001b[38;5;124mThe reset() method must accept a `seed` parameter\u001b[39m\u001b[38;5;124m\"\u001b[39m) \u001b[38;5;28;01mfrom\u001b[39;00m\u001b[38;5;250m \u001b[39m\u001b[38;5;21;01me\u001b[39;00m\n\u001b[1;32m    445\u001b[0m \u001b[38;5;66;03m# Warn the user if needed.\u001b[39;00m\n\u001b[1;32m    446\u001b[0m \u001b[38;5;66;03m# A warning means that the environment may run but not work properly with Stable Baselines algorithms\u001b[39;00m\n\u001b[1;32m    447\u001b[0m \u001b[38;5;28;01mif\u001b[39;00m warn:\n",
      "\u001b[0;31mTypeError\u001b[0m: The reset() method must accept a `seed` parameter"
     ]
    }
   ],
   "source": [
    "env_checker.check_env(env, warn=True, skip_render_check=True)"
   ]
  },
  {
   "cell_type": "code",
   "execution_count": 12,
   "metadata": {},
   "outputs": [
    {
     "name": "stdout",
     "output_type": "stream",
     "text": [
      "Using cpu device\n",
      "Wrapping the env with a `Monitor` wrapper\n",
      "Wrapping the env in a DummyVecEnv.\n"
     ]
    },
    {
     "name": "stderr",
     "output_type": "stream",
     "text": [
      "/Users/oli.dmrs/.pyenv/versions/3.11.9/lib/python3.11/site-packages/stable_baselines3/ppo/ppo.py:155: UserWarning: You have specified a mini-batch size of 64, but because the `RolloutBuffer` is of size `n_steps * n_envs = 10`, after every 0 untruncated mini-batches, there will be a truncated mini-batch of size 10\n",
      "We recommend using a `batch_size` that is a factor of `n_steps * n_envs`.\n",
      "Info: (n_steps=10 and n_envs=1)\n",
      "  warnings.warn(\n"
     ]
    }
   ],
   "source": [
    "log_path = os.path.join('Training', 'Logs')\n",
    "env = FlattenObservation(env)\n",
    "# model = PPO('CnnPolicy', env, verbose = 1, tensorboard_log=log_path)\n",
    "model = PPO('MlpPolicy', env, verbose = 2, tensorboard_log=log_path, n_steps=10)\n"
   ]
  },
  {
   "cell_type": "code",
   "execution_count": 13,
   "metadata": {},
   "outputs": [
    {
     "ename": "TypeError",
     "evalue": "CarEnvironment.reset() got an unexpected keyword argument 'options'",
     "output_type": "error",
     "traceback": [
      "\u001b[0;31m---------------------------------------------------------------------------\u001b[0m",
      "\u001b[0;31mTypeError\u001b[0m                                 Traceback (most recent call last)",
      "Cell \u001b[0;32mIn[13], line 1\u001b[0m\n\u001b[0;32m----> 1\u001b[0m \u001b[43menv\u001b[49m\u001b[38;5;241;43m.\u001b[39;49m\u001b[43mreset\u001b[49m\u001b[43m(\u001b[49m\u001b[43m)\u001b[49m\n\u001b[1;32m      2\u001b[0m model\u001b[38;5;241m.\u001b[39mlearn(total_timesteps\u001b[38;5;241m=\u001b[39m\u001b[38;5;241m10\u001b[39m, progress_bar\u001b[38;5;241m=\u001b[39m\u001b[38;5;28;01mTrue\u001b[39;00m, )\n",
      "File \u001b[0;32m~/.pyenv/versions/3.11.9/lib/python3.11/site-packages/gymnasium/core.py:543\u001b[0m, in \u001b[0;36mObservationWrapper.reset\u001b[0;34m(self, seed, options)\u001b[0m\n\u001b[1;32m    539\u001b[0m \u001b[38;5;28;01mdef\u001b[39;00m\u001b[38;5;250m \u001b[39m\u001b[38;5;21mreset\u001b[39m(\n\u001b[1;32m    540\u001b[0m     \u001b[38;5;28mself\u001b[39m, \u001b[38;5;241m*\u001b[39m, seed: \u001b[38;5;28mint\u001b[39m \u001b[38;5;241m|\u001b[39m \u001b[38;5;28;01mNone\u001b[39;00m \u001b[38;5;241m=\u001b[39m \u001b[38;5;28;01mNone\u001b[39;00m, options: \u001b[38;5;28mdict\u001b[39m[\u001b[38;5;28mstr\u001b[39m, Any] \u001b[38;5;241m|\u001b[39m \u001b[38;5;28;01mNone\u001b[39;00m \u001b[38;5;241m=\u001b[39m \u001b[38;5;28;01mNone\u001b[39;00m\n\u001b[1;32m    541\u001b[0m ) \u001b[38;5;241m-\u001b[39m\u001b[38;5;241m>\u001b[39m \u001b[38;5;28mtuple\u001b[39m[WrapperObsType, \u001b[38;5;28mdict\u001b[39m[\u001b[38;5;28mstr\u001b[39m, Any]]:\n\u001b[1;32m    542\u001b[0m \u001b[38;5;250m    \u001b[39m\u001b[38;5;124;03m\"\"\"Modifies the :attr:`env` after calling :meth:`reset`, returning a modified observation using :meth:`self.observation`.\"\"\"\u001b[39;00m\n\u001b[0;32m--> 543\u001b[0m     obs, info \u001b[38;5;241m=\u001b[39m \u001b[38;5;28;43mself\u001b[39;49m\u001b[38;5;241;43m.\u001b[39;49m\u001b[43menv\u001b[49m\u001b[38;5;241;43m.\u001b[39;49m\u001b[43mreset\u001b[49m\u001b[43m(\u001b[49m\u001b[43mseed\u001b[49m\u001b[38;5;241;43m=\u001b[39;49m\u001b[43mseed\u001b[49m\u001b[43m,\u001b[49m\u001b[43m \u001b[49m\u001b[43moptions\u001b[49m\u001b[38;5;241;43m=\u001b[39;49m\u001b[43moptions\u001b[49m\u001b[43m)\u001b[49m\n\u001b[1;32m    544\u001b[0m     \u001b[38;5;28;01mreturn\u001b[39;00m \u001b[38;5;28mself\u001b[39m\u001b[38;5;241m.\u001b[39mobservation(obs), info\n",
      "\u001b[0;31mTypeError\u001b[0m: CarEnvironment.reset() got an unexpected keyword argument 'options'"
     ]
    }
   ],
   "source": [
    "env.reset()\n",
    "model.learn(total_timesteps=10, progress_bar=True, )\n"
   ]
  },
  {
   "cell_type": "markdown",
   "metadata": {},
   "source": [
    "## Save Model"
   ]
  }
 ],
 "metadata": {
  "kernelspec": {
   "display_name": "Python 3",
   "language": "python",
   "name": "python3"
  },
  "language_info": {
   "codemirror_mode": {
    "name": "ipython",
    "version": 3
   },
   "file_extension": ".py",
   "mimetype": "text/x-python",
   "name": "python",
   "nbconvert_exporter": "python",
   "pygments_lexer": "ipython3",
   "version": "3.11.9"
  }
 },
 "nbformat": 4,
 "nbformat_minor": 2
}
